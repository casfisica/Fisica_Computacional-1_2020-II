{
 "cells": [
  {
   "cell_type": "markdown",
   "metadata": {},
   "source": [
    "# InputOutput\n",
    "\n",
    "Veremos cómo guardar y leer objetos desde archivos ROOT. Un archivo ROOT es como un directorio de archivos UNIX. Puede contener directorios y objetos organizados en un número ilimitado de niveles. También se almacena en formato independiente de la máquina. \n",
    "\n",
    "__Ejemplo:__ En este ejemplo se crea un archivo ROOT y 15 histogramas, llena cada histograma con 1000 entradas de una distribución gaussiana y las escribe en el archivo."
   ]
  },
  {
   "cell_type": "code",
   "execution_count": 1,
   "metadata": {},
   "outputs": [
    {
     "name": "stdout",
     "output_type": "stream",
     "text": [
      "Welcome to JupyROOT 6.22/03\n"
     ]
    }
   ],
   "source": [
    "#Debemos llamar las diferentes clases que vamos a usar:\n",
    "from ROOT import TObjArray, TH1F, TFile\n",
    "# crear un arreglo de root\n",
    "Hlist = TObjArray(0)\n",
    "\n",
    "#LLeno la el arreglo con histogramas\n",
    "for i in range( 15 ):\n",
    "    name = \"Histograma\"+str(i)\n",
    "    title = \"Histograma_\"+str(i)\n",
    "    h = TH1F(name,title,100,-4,4)\n",
    "    h.FillRandom(\"gaus\",1000)\n",
    "    Hlist.Add(h)\n",
    "    del h\n",
    "# abre un archivo y escribe el arreglo en el archivo\n",
    "f = TFile(\"demo.root\",\"recreate\")\n",
    "Hlist.Write()\n",
    "f.Close()"
   ]
  },
  {
   "cell_type": "markdown",
   "metadata": {},
   "source": [
    "Una vez que tenemos el objeto `TFile`, podemos llamar al método `TFile.Map()` para ver el diseño físico. La salida imprime la fecha/hora, la dirección del registro de inicio, el número de bytes en el registro, el nombre de clase del registro y el factor de compresión."
   ]
  },
  {
   "cell_type": "code",
   "execution_count": 2,
   "metadata": {},
   "outputs": [
    {
     "name": "stdout",
     "output_type": "stream",
     "text": [
      "20201014/215607  At:100     N=114       TFile         \n",
      "20201014/215607  At:214     N=445       TH1F           CX =  2.27\n",
      "20201014/215607  At:659     N=439       TH1F           CX =  2.30\n",
      "20201014/215607  At:1098    N=440       TH1F           CX =  2.30\n",
      "20201014/215607  At:1538    N=440       TH1F           CX =  2.30\n",
      "20201014/215607  At:1978    N=441       TH1F           CX =  2.29\n",
      "20201014/215607  At:2419    N=439       TH1F           CX =  2.30\n",
      "20201014/215607  At:2858    N=433       TH1F           CX =  2.33\n",
      "20201014/215607  At:3291    N=445       TH1F           CX =  2.27\n",
      "20201014/215607  At:3736    N=437       TH1F           CX =  2.31\n",
      "20201014/215607  At:4173    N=437       TH1F           CX =  2.31\n",
      "20201014/215607  At:4610    N=444       TH1F           CX =  2.29\n",
      "20201014/215607  At:5054    N=441       TH1F           CX =  2.30\n",
      "20201014/215607  At:5495    N=444       TH1F           CX =  2.29\n",
      "20201014/215607  At:5939    N=440       TH1F           CX =  2.31\n",
      "20201014/215607  At:6379    N=440       TH1F           CX =  2.31\n",
      "20201014/215607  At:6819    N=3055      StreamerInfo   CX =  3.08\n",
      "20201014/215607  At:9874    N=897       KeysList      \n",
      "20201014/215607  At:10771   N=53        FreeSegments  \n",
      "20201014/215607  At:10824   N=1         END           \n"
     ]
    }
   ],
   "source": [
    "#Abrimos un archivo .root y asignamos su contenido al objeto TFile f\n",
    "f = TFile(\"demo.root\")\n",
    "#Aplicamos el operador Map() sobre f\n",
    "f.Map()"
   ]
  },
  {
   "cell_type": "markdown",
   "metadata": {},
   "source": [
    "## TFile y TKey\n",
    "\n",
    "El método `Map ()` lee el archivo secuencialmente muestra la información sobre cada registro mientras escanea el archivo. Puesto que ROOT fue creado para manejo de grandes volumenes de datos es factible usar  el acceso secuencial, aleatorio o directo. Para esto último, `TFile` mantiene una lista de `TKeys`, que es esencialmente un índice de los objetos del archivo. La clase `TKey` describe los encabezados de registro de los objetos del archivo. \n",
    "\n",
    "__Ejemplo:__ para obtener la lista de claves e imprimirlas (`TFile.GetListOfKeys()`). Para encontrar un objeto específico en el archivo, se usa el método `TFile.Get()`."
   ]
  },
  {
   "cell_type": "code",
   "execution_count": 6,
   "metadata": {},
   "outputs": [
    {
     "name": "stdout",
     "output_type": "stream",
     "text": [
      "Collection name='THashList', class='THashList', size=15\n",
      " TKey Name = Histograma0, Title = Histograma_0, Cycle = 1\n",
      " TKey Name = Histograma1, Title = Histograma_1, Cycle = 1\n",
      " TKey Name = Histograma2, Title = Histograma_2, Cycle = 1\n",
      " TKey Name = Histograma3, Title = Histograma_3, Cycle = 1\n",
      " TKey Name = Histograma4, Title = Histograma_4, Cycle = 1\n",
      " TKey Name = Histograma5, Title = Histograma_5, Cycle = 1\n",
      " TKey Name = Histograma6, Title = Histograma_6, Cycle = 1\n",
      " TKey Name = Histograma7, Title = Histograma_7, Cycle = 1\n",
      " TKey Name = Histograma8, Title = Histograma_8, Cycle = 1\n",
      " TKey Name = Histograma9, Title = Histograma_9, Cycle = 1\n",
      " TKey Name = Histograma10, Title = Histograma_10, Cycle = 1\n",
      " TKey Name = Histograma11, Title = Histograma_11, Cycle = 1\n",
      " TKey Name = Histograma12, Title = Histograma_12, Cycle = 1\n",
      " TKey Name = Histograma13, Title = Histograma_13, Cycle = 1\n",
      " TKey Name = Histograma14, Title = Histograma_14, Cycle = 1\n"
     ]
    }
   ],
   "source": [
    "#Aplicamos el método Get() sobre f y usamos el método Print() para visualizar\n",
    "f.GetListOfKeys().Print()\n",
    "#Cerramos el archivo\n",
    "f.Close()"
   ]
  },
  {
   "cell_type": "code",
   "execution_count": 7,
   "metadata": {},
   "outputs": [
    {
     "data": {
      "image/png": "[encoded data removed]",
      "text/plain": [
       "<IPython.core.display.Image object>"
      ]
     },
     "metadata": {},
     "output_type": "display_data"
    }
   ],
   "source": [
    "#Debemos llamar las diferentes clases que vamos a usar\n",
    "from ROOT import TH1F, TFile, TCanvas\n",
    "#Abrimos un archivo .root y asignamos su contenido al objeto TFile f\n",
    "f = TFile(\"demo.root\")\n",
    "#Ahora usemos Get para obtener el Histograma6\n",
    "Histo_6 = f.Get(\"Histograma6\")\n",
    "# Ahora se crea un Canvas para dibujar\n",
    "c1 = TCanvas( 'c1', 'Histograma_6')\n",
    "#Dibujamos el histograma\n",
    "Histo_6.Draw()\n",
    "#Mostramos el canvas.\n",
    "c1.Draw()\n",
    "#Cerramos el archivo\n",
    "f.Close()"
   ]
  },
  {
   "cell_type": "markdown",
   "metadata": {},
   "source": [
    "## El directorio actual\n",
    "Cuando se crea un objeto `TFile`, se convierte en el \"directorio\" actual. Por lo tanto, el último archivo que se abre es siempre el directorio actual. Para verificar su directorio actual, puede usar la clase `gDirectory` y el método de esta clase `pwd()`."
   ]
  },
  {
   "cell_type": "code",
   "execution_count": 9,
   "metadata": {},
   "outputs": [
    {
     "name": "stdout",
     "output_type": "stream",
     "text": [
      "demo.root:/\n"
     ]
    }
   ],
   "source": [
    "from ROOT import gDirectory\n",
    "gDirectory.pwd()"
   ]
  },
  {
   "cell_type": "code",
   "execution_count": 15,
   "metadata": {},
   "outputs": [
    {
     "name": "stdout",
     "output_type": "stream",
     "text": [
      "File1.root:/\n",
      "File2.root:/\n",
      "File2.root:/\n"
     ]
    },
    {
     "name": "stderr",
     "output_type": "stream",
     "text": [
      "Error in <TFile::cd>: Unknown directory File1.root\n"
     ]
    }
   ],
   "source": [
    "#Si tiene dos archivos en uso, el último es el que directorio actual\n",
    "f1 = TFile(\"File1.root\",\"recreate\")\n",
    "gDirectory.pwd()\n",
    "f2 = TFile(\"File2.root\",\"recreate\")\n",
    "gDirectory.pwd()"
   ]
  },
  {
   "cell_type": "code",
   "execution_count": 16,
   "metadata": {},
   "outputs": [
    {
     "name": "stdout",
     "output_type": "stream",
     "text": [
      "TFile**\t\tdemo.root\t\n",
      " TFile*\t\tdemo.root\t\n",
      "  KEY: TH1F\tHistograma0;1\tHistograma_0\n",
      "  KEY: TH1F\tHistograma1;1\tHistograma_1\n",
      "  KEY: TH1F\tHistograma2;1\tHistograma_2\n",
      "  KEY: TH1F\tHistograma3;1\tHistograma_3\n",
      "  KEY: TH1F\tHistograma4;1\tHistograma_4\n",
      "  KEY: TH1F\tHistograma5;1\tHistograma_5\n",
      "  KEY: TH1F\tHistograma6;1\tHistograma_6\n",
      "  KEY: TH1F\tHistograma7;1\tHistograma_7\n",
      "  KEY: TH1F\tHistograma8;1\tHistograma_8\n",
      "  KEY: TH1F\tHistograma9;1\tHistograma_9\n",
      "  KEY: TH1F\tHistograma10;1\tHistograma_10\n",
      "  KEY: TH1F\tHistograma11;1\tHistograma_11\n",
      "  KEY: TH1F\tHistograma12;1\tHistograma_12\n",
      "  KEY: TH1F\tHistograma13;1\tHistograma_13\n",
      "  KEY: TH1F\tHistograma14;1\tHistograma_14\n"
     ]
    }
   ],
   "source": [
    "f = TFile(\"demo.root\")\n",
    "f.ls()"
   ]
  },
  {
   "cell_type": "code",
   "execution_count": null,
   "metadata": {},
   "outputs": [],
   "source": [
    "##Saving Histograms to Disk"
   ]
  },
  {
   "cell_type": "code",
   "execution_count": null,
   "metadata": {},
   "outputs": [],
   "source": [
    "###Histograms and the Current Directory"
   ]
  },
  {
   "cell_type": "code",
   "execution_count": null,
   "metadata": {},
   "outputs": [],
   "source": [
    "## Saving Objects to Disk"
   ]
  },
  {
   "cell_type": "code",
   "execution_count": null,
   "metadata": {},
   "outputs": [],
   "source": [
    "## Retrieving Objects from Disk"
   ]
  },
  {
   "cell_type": "code",
   "execution_count": null,
   "metadata": {},
   "outputs": [],
   "source": []
  },
  {
   "cell_type": "code",
   "execution_count": null,
   "metadata": {},
   "outputs": [],
   "source": []
  },
  {
   "cell_type": "code",
   "execution_count": null,
   "metadata": {},
   "outputs": [],
   "source": []
  },
  {
   "cell_type": "markdown",
   "metadata": {},
   "source": [
    "# TTree\n",
    "\n",
    "En el capítulo \"Entrada / Salida\", vimos cómo se pueden guardar los objetos en archivos ROOT. En caso de que desee almacenar grandes cantidades de objetos de la misma clase, ROOT ha diseñado las clases TTree y TNtuple específicamente para ese propósito. La clase TTree está optimizada para reducir el espacio en disco y mejorar la velocidad de acceso. Un TNtuple es un TTree que se limita a contener solo números de punto flotante; un TTree, por otro lado, puede contener todo tipo de datos, como objetos o matrices, además de todos los tipos simples."
   ]
  },
  {
   "cell_type": "code",
   "execution_count": null,
   "metadata": {},
   "outputs": [],
   "source": []
  },
  {
   "cell_type": "code",
   "execution_count": null,
   "metadata": {},
   "outputs": [],
   "source": []
  },
  {
   "cell_type": "code",
   "execution_count": null,
   "metadata": {},
   "outputs": [],
   "source": []
  }
 ],
 "metadata": {
  "kernelspec": {
   "display_name": "Python 3",
   "language": "python",
   "name": "python3"
  },
  "language_info": {
   "codemirror_mode": {
    "name": "ipython",
    "version": 3
   },
   "file_extension": ".py",
   "mimetype": "text/x-python",
   "name": "python",
   "nbconvert_exporter": "python",
   "pygments_lexer": "ipython3",
   "version": "3.8.6"
  }
 },
 "nbformat": 4,
 "nbformat_minor": 4
}
