{
 "cells": [
  {
   "cell_type": "markdown",
   "metadata": {
    "colab_type": "text",
    "id": "T33_3Ad08kEA"
   },
   "source": [
    "# Análisis sobre datos\n",
    "\n",
    "El archivo `TrimmedTree.root` contiene un arbol (`TTree`) con ramas (`TBranch`) que contienen los valores de medidas experimentales de un experimento de física de altas energías. \n",
    "\n",
    "Vamos a utilizar los datos contenidos en este archivo para ilustrar el uso de algunas clases de ROOT para realizar un análisis sobre los eventos para encontrar la resonancia del $Z^\\mu$."
   ]
  },
  {
   "cell_type": "markdown",
   "metadata": {},
   "source": [
    "Primero vamos a explorar el archivo y el TTree que contiene, para saber que tipos de Clases contiene"
   ]
  },
  {
   "cell_type": "code",
   "execution_count": 1,
   "metadata": {},
   "outputs": [
    {
     "name": "stdout",
     "output_type": "stream",
     "text": [
      "Welcome to JupyROOT 6.22/03\n"
     ]
    }
   ],
   "source": [
    "from ROOT import TFile\n",
    "f = TFile(\"TrimmedTree.root\")\n",
    "f.ls()"
   ]
  },
  {
   "cell_type": "code",
   "execution_count": 2,
   "metadata": {},
   "outputs": [
    {
     "name": "stdout",
     "output_type": "stream",
     "text": [
      "******************************************************************************\n",
      "*Tree    :TrimmedTree: Trimmed Tree from ExRootAnalysis                       *\n",
      "*Entries :   100000 : Total =        11046943 bytes  File  Size =    4147554 *\n",
      "*        :          : Tree compression factor =   2.66                       *\n",
      "******************************************************************************\n",
      "*Br    0 :MuonPt    : vector<float>                                          *\n",
      "*Entries :   100000 : Total  Size=    2209169 bytes  File Size  =     751202 *\n",
      "*Baskets :       82 : Basket Size=      32000 bytes  Compression=   2.94     *\n",
      "*............................................................................*\n",
      "*Br    1 :MuonEta   : vector<float>                                          *\n",
      "*Entries :   100000 : Total  Size=    2209255 bytes  File Size  =    1087361 *\n",
      "*Baskets :       82 : Basket Size=      32000 bytes  Compression=   2.03     *\n",
      "*............................................................................*\n",
      "*Br    2 :MuonPhi   : vector<float>                                          *\n",
      "*Entries :   100000 : Total  Size=    2209255 bytes  File Size  =    1088067 *\n",
      "*Baskets :       82 : Basket Size=      32000 bytes  Compression=   2.03     *\n",
      "*............................................................................*\n",
      "*Br    3 :MuonE     : vector<float>                                          *\n",
      "*Entries :   100000 : Total  Size=    2209083 bytes  File Size  =    1041544 *\n",
      "*Baskets :       82 : Basket Size=      32000 bytes  Compression=   2.12     *\n",
      "*............................................................................*\n",
      "*Br    4 :MuonCharge : vector<int>                                           *\n",
      "*Entries :   100000 : Total  Size=    2209513 bytes  File Size  =     175569 *\n",
      "*Baskets :       82 : Basket Size=      32000 bytes  Compression=  12.57     *\n",
      "*............................................................................*\n"
     ]
    }
   ],
   "source": [
    "# Sabemos ahora que el TTree se llama TrimmedTree\n",
    "# Ahora pongamos el TTree en una variable, para explorar el contenido\n",
    "tree = f.Get(\"TrimmedTree\")\n",
    "#y visualicemos su contenido\n",
    "tree.Print()"
   ]
  },
  {
   "cell_type": "code",
   "execution_count": 3,
   "metadata": {},
   "outputs": [],
   "source": [
    "#Cerramos el archivo\n",
    "f.Close()"
   ]
  },
  {
   "cell_type": "markdown",
   "metadata": {},
   "source": [
    "Ya sabemos que el `TTree` contiene cinco ramas llamadas `MuonPt`, `MuonEta`, `MuonPhi`, `MuonE` y `MuonCharge` que no contienen la información sobre los eventos."
   ]
  },
  {
   "cell_type": "code",
   "execution_count": 4,
   "metadata": {
    "colab": {},
    "colab_type": "code",
    "id": "rGBwkzJ4DLAY"
   },
   "outputs": [],
   "source": [
    "# Importamos las clases que necesitamos\n",
    "from ROOT import TChain, TH1F, TLorentzVector, TCanvas"
   ]
  },
  {
   "cell_type": "markdown",
   "metadata": {
    "colab_type": "text",
    "id": "Uw1iSG5bqSZ6"
   },
   "source": [
    "### TChain\n",
    "\n",
    "Una cadena (`TChain`) es una colección de archivos que contienen objetos `TTree`. Cuando se crea la cadena, el primer parámetro es el nombre predeterminado para el árbol que se procesará más adelante. \n",
    "\n",
    "Se puede agregar un nuevo elemento en la cadena a través de la función `TChain.Add`. Una vez que se define una cadena, se pueden usar las funciones normales de `TTree` para dibujar, escanear, etc."
   ]
  },
  {
   "cell_type": "code",
   "execution_count": 5,
   "metadata": {
    "colab": {
     "base_uri": "https://localhost:8080/",
     "height": 34
    },
    "colab_type": "code",
    "executionInfo": {
     "elapsed": 450,
     "status": "ok",
     "timestamp": 1538666582047,
     "user": {
      "displayName": "JOSE DAVID RUIZ ALVAREZ",
      "photoUrl": "",
      "userId": "05687608758618215160"
     },
     "user_tz": 300
    },
    "id": "I8zyzA2-pn0i",
    "outputId": "e1d55738-878f-4471-8c0d-f0ee1fdb9d67"
   },
   "outputs": [
    {
     "data": {
      "text/plain": [
       "1"
      ]
     },
     "execution_count": 5,
     "metadata": {},
     "output_type": "execute_result"
    }
   ],
   "source": [
    "#Creamos una cadena que contendra objetos TTree de nombre 'TrimmedTree'.\n",
    "DataChain = TChain(\"TrimmedTree\")\n",
    "# Le pasamos el archivo que contiene el TTree 'TrimmedTree'.\n",
    "DataChain.Add(\"TrimmedTree.root\")"
   ]
  },
  {
   "cell_type": "markdown",
   "metadata": {
    "colab_type": "text",
    "id": "OYjoY3-Yqkuo"
   },
   "source": [
    "## Eventos experimentales\n",
    "\n",
    "Cuando un boson $Z$ decae, tiene varias posibilidades. Dado que el $Z$ es neutral, la suma de las cargas de sus productos de desintegración debe ser 0. Esto se debe a que en la naturaleza la carga se conserva. Por tanto, que $Z$ decaiga se divide entre grupos de partículas de acuerdo con leyes de conservación adicionales.\n",
    "\n",
    "- El bosón Z se descompone en el $20\\%$ de los casos en un par neutrino-antineutrino.\n",
    "\n",
    "- En el $70\\%$ de las desintegraciones $Z$, se produce un par quark-antiquark. Sumando los 6 tipos de quarks (up, down, charm, strange, top, bottom) cada uno con 3 colores da como resultado 18 posibilidades de decaimiento.\n",
    "\n",
    "- En el $10\\%$ de las desintegraciones $Z$, se producen pares cargados de leptón-antileptón. Los tres posibles tipos de pares de leptones cargados son pares electrón-positrón, muón-antimuón y tau-antitau. Cada par es aproximadamente igualmente probable. \n",
    "\n",
    "Como un tercio del $10\\%$ de los decaimientos que esperamos del boson $Z$ va a muones, entonces si detectamos un evento con un par de muones con cargas opuestas, y su masa invariante sea de aproximadamente $90$ GeV, se puede decir entonces que hay una probabilidad alta de que estos muones provengan del decaimiento de un boson $Z$.\n",
    "\n",
    "### Recorriendo y filtrando eventos \n",
    "\n",
    "Usamos el método `GetEntries` para saber cuantos datos contiene el `TTree`. Y usamos un `for` para recorrer los eventos guardados en el TTree y analizarlos.\n",
    "\n",
    "### TLorentzVector\n",
    "\n",
    "`TLorentzVector` es una clase general de cuadri-vectores, que se puede utilizar para la descripción de la posición y el tiempo $(x, y, z, t)$ o el momento y la energía $(p_x, p_y, p_z, E)$."
   ]
  },
  {
   "cell_type": "code",
   "execution_count": 6,
   "metadata": {
    "colab": {},
    "colab_type": "code",
    "id": "woFnYYNKyoR9"
   },
   "outputs": [
    {
     "name": "stdout",
     "output_type": "stream",
     "text": [
      "Número de eventos en el archivo  100000\n"
     ]
    }
   ],
   "source": [
    "# Numero de eventos\n",
    "print(\"Número de eventos en el archivo \",DataChain.GetEntries())\n",
    "\n",
    "# Creamos un histograma para llenarlo con la información que queremos los eventos\n",
    "#en este caso los eventos con dos muones de cargas iguales.\n",
    "DiMuM = TH1F( 'DiMuM', 'Distribucion de masa de dos muones', 100, 60, 120 )\n",
    "\n",
    "# Recorriendo las entradas del arbol.\n",
    "for entry in DataChain:\n",
    "    \n",
    "    # Filtramos los eventos que tengan exactamente 2 muones\n",
    "    NumberOfMuons = entry.MuonPt.size()\n",
    "    if NumberOfMuons != 2: continue\n",
    "        \n",
    "    # Filtramos los eventos que tengan cargas de diferente signo\n",
    "    if entry.MuonCharge.at(0)*entry.MuonCharge.at(1) > 0: continue\n",
    "    \n",
    "    # Creamos objetos TLorentzVector que son vectores de lorentz, para mirar sus propiedades\n",
    "    muon1 = TLorentzVector()\n",
    "    muon2 = TLorentzVector()\n",
    "    \n",
    "    #Usamos el método SetPtEtaPhiM para llenar los objetos muon con las entradas del TTree \n",
    "    muon1.SetPtEtaPhiM(entry.MuonPt.at(0),entry.MuonEta.at(0),entry.MuonPhi.at(0),0.106)\n",
    "    muon2.SetPtEtaPhiM(entry.MuonPt.at(1),entry.MuonEta.at(1),entry.MuonPhi.at(1),0.106)\n",
    "    \n",
    "    # Ahora usamos el método sobrecargado + para obtener el objeto DiMuonSystem\n",
    "    #de la clase TLorentzVector que contiene la suma de muon1 y munon2\n",
    "    DiMuonSystem = muon1 + muon2\n",
    "    \n",
    "    # Llenamos el histograma con la Masa invariante\n",
    "    DiMuM.Fill(DiMuonSystem.M())"
   ]
  },
  {
   "cell_type": "markdown",
   "metadata": {},
   "source": [
    "## Masa invariante\n",
    "\n",
    "En física de partículas, la masa invariante $m_0$ es igual a la masa en el sistema en reposo de la partícula, y puede calcularse mediante la energía E de la partícula y su momento p medido en cualquier marco, mediante la relación energía-momento:\n",
    "\n",
    "$m_0^2c^2=(E/c)^2-||P||^2$\n"
   ]
  },
  {
   "cell_type": "code",
   "execution_count": 7,
   "metadata": {
    "colab": {
     "base_uri": "https://localhost:8080/",
     "height": 906
    },
    "colab_type": "code",
    "executionInfo": {
     "elapsed": 514,
     "status": "ok",
     "timestamp": 1538669409414,
     "user": {
      "displayName": "JOSE DAVID RUIZ ALVAREZ",
      "photoUrl": "",
      "userId": "05687608758618215160"
     },
     "user_tz": 300
    },
    "id": "CV1APNiP1r_y",
    "outputId": "15540411-a398-40d2-93b3-ce31c8ef7b0b"
   },
   "outputs": [
    {
     "data": {
      "image/png": "[encoded data removed]",
      "text/plain": [
       "<IPython.core.display.Image object>"
      ]
     },
     "metadata": {},
     "output_type": "display_data"
    }
   ],
   "source": [
    "c1 = TCanvas( 'c1', 'The FillRandom example', 200, 10, 700, 900 )\n",
    "c1.SetFillColor( 0 )\n",
    "# Modifiquemos un poco el Path, para que tenga la información necesaria para entender el gráfico\n",
    "DiMuM.GetXaxis().SetTitle(\"Mass [GeV]\")\n",
    "DiMuM.Draw('E1')\n",
    "c1.Draw()"
   ]
  },
  {
   "cell_type": "markdown",
   "metadata": {},
   "source": [
    "## RooFit\n",
    "\n",
    "La librería `RooFit` proporciona un conjunto de herramientas para modelar la distribución esperada de eventos en un análisis físico.\n",
    "\n",
    "Los modelos se pueden utilizar para realizar ajustes de máximo _likelihood_ a eventos no agrupados, producir gráficos y generar muestras de \"Montecarlo\" para diversos estudios. \n",
    "\n",
    "`RooFit` fue desarrollado originalmente para Colaboración __BaBar__, un experimento de física de partículas en el _Stanford Linear Accelerator Center_. \n",
    "\n",
    "El software está diseñado principalmente como una herramienta de análisis de datos de física de partículas, pero su naturaleza general y su arquitectura lo hace útil también para otros tipos de análisis de datos.\n",
    "\n",
    "En este ejemplo vamos a intentar hacer un ajuste a la distribución de la masa invariante de dos muones, que encontramos anteriormente, para eso vamos a necesitar las siguientes clases pertenecientes a `RooFit`:\n",
    "\n",
    "### RooGaussian\n",
    "\n",
    "Implementación de la Función de Densidad de Probabilidad (PDF) Gamma para RooFit\n",
    "\n",
    "$f(x)=\\frac{(x-/mu)^{(\\gamma-1)} . e^{-\\frac{x-/mu}{\\beta}}}{\\Gamma(\\gamma).\\beta\\gamma}$\n",
    "\n",
    "### RooCBShape\n",
    "PDF de Crystal Ball line. https://root.cern/doc/master/classRooCBShape.html\n",
    "\n",
    "### RooRealVar\n",
    "Es una variable que puede tener varios rangos.\n",
    "\n",
    "### RooDataHist\n",
    "Es una clase de contenedor para alojar datos agrupados en N-dimensiones."
   ]
  },
  {
   "cell_type": "code",
   "execution_count": 8,
   "metadata": {},
   "outputs": [
    {
     "name": "stdout",
     "output_type": "stream",
     "text": [
      "\n",
      "\u001b[1mRooFit v3.60 -- Developed by Wouter Verkerke and David Kirkby\u001b[0m \n",
      "                Copyright (C) 2000-2013 NIKHEF, University of California & Stanford University\n",
      "                All rights reserved, please read http://roofit.sourceforge.net/license.txt\n",
      "\n"
     ]
    }
   ],
   "source": [
    "# Primero importamos todas las clases que vamos a necesitar.\n",
    "from ROOT import RooDataSet, RooGaussian, RooRealVar, RooDataHist, RooCBShape, RooFit"
   ]
  },
  {
   "cell_type": "markdown",
   "metadata": {},
   "source": [
    "Intentemos primero hacer el ajuste usando una distribución Gaussiana."
   ]
  },
  {
   "cell_type": "code",
   "execution_count": 9,
   "metadata": {},
   "outputs": [],
   "source": [
    "#Primero definimos la variable independiente, del histograma nos damos cuenta que\n",
    "# el rango de masa es de 60 GeV a 120 GeV \n",
    "mass = RooRealVar(\"mass\", \"Mass [GeV]\", 60.0, 120.0);\n",
    "#También vemos que la media es de 90 aproximadamente. Luego pongo esta variable\n",
    "# con un rango de 85 a 95, y que su valor inicial sea 87\n",
    "mean = RooRealVar(\"mean\", \"media\", 87.0, 85.0, 95.0);\n",
    "#con un razonamiento similar asigno el ancho de la gaussiana\n",
    "sigma = RooRealVar(\"sigma\", \"ancho\", 1.0, 1.0, 10.0);\n",
    "#Por último declaro la PDF que voy a usar para hacer el ajuste, con sus respectivos parámetros\n",
    "gaussPDF = RooGaussian(\"gauss\", \"gaussian PDF\", mass, mean, sigma);"
   ]
  },
  {
   "cell_type": "markdown",
   "metadata": {},
   "source": [
    "### Visualizando la PDF\n",
    "Podemos tener una idea de la PDF que estamos usando si la graficamos."
   ]
  },
  {
   "cell_type": "code",
   "execution_count": 10,
   "metadata": {},
   "outputs": [
    {
     "data": {
      "image/png": "[encoded data removed]",
      "text/plain": [
       "<IPython.core.display.Image object>"
      ]
     },
     "metadata": {},
     "output_type": "display_data"
    }
   ],
   "source": [
    "#Creamos un Marco para graficar (es como un Path)\n",
    "massframe = mass.frame()\n",
    "#Visualizo el modelo con los valores iniciales\n",
    "gaussPDF.plotOn(massframe)\n",
    "#Si quiero ver como se comporta dependiendo de un parámetro, se puede cambiar\n",
    "#Cambiando el sigma a 5 y la media a 90\n",
    "sigma.setVal(5)\n",
    "mean.setVal(90)\n",
    "#Grafico en el mismo marco\n",
    "gaussPDF.plotOn(massframe)\n",
    "# Ahora lo ponemos en el canvas y mostramos\n",
    "massframe.Draw()\n",
    "# Pongamos un título\n",
    "massframe.SetTitle(\"Modelo Gaussiana\")\n",
    "massframe.GetYaxis().SetTitle(\"\")\n",
    "#c1.Update()\n",
    "c1.Draw()"
   ]
  },
  {
   "cell_type": "markdown",
   "metadata": {},
   "source": [
    "### Ajuste de datos con Roofit\n",
    "\n",
    "Agregamos los datos desde el histograma directamente usando el constructor de `RooDataHist` que usa entrada desde TH1F. Y usando el método `fitTo` ajustamos al PDF."
   ]
  },
  {
   "cell_type": "code",
   "execution_count": 11,
   "metadata": {},
   "outputs": [
    {
     "data": {
      "text/plain": [
       "<cppyy.gbl.RooFitResult object at 0x(nil)>"
      ]
     },
     "execution_count": 11,
     "metadata": {},
     "output_type": "execute_result"
    },
    {
     "name": "stdout",
     "output_type": "stream",
     "text": [
      "[#1] INFO:Minization -- RooMinimizer::optimizeConst: activating const optimization\n",
      " **********\n",
      " **    1 **SET PRINT           1\n",
      " **********\n",
      " **********\n",
      " **    2 **SET NOGRAD\n",
      " **********\n",
      " PARAMETER DEFINITIONS:\n",
      "    NO.   NAME         VALUE      STEP SIZE      LIMITS\n",
      "     1 mean         9.00000e+01  1.00000e+00    8.50000e+01  9.50000e+01\n",
      "     2 sigma        5.00000e+00  9.00000e-01    1.00000e+00  1.00000e+01\n",
      " **********\n",
      " **    3 **SET ERR         0.5\n",
      " **********\n",
      " **********\n",
      " **    4 **SET PRINT           1\n",
      " **********\n",
      " **********\n",
      " **    5 **SET STR           1\n",
      " **********\n",
      " NOW USING STRATEGY  1: TRY TO BALANCE SPEED AGAINST RELIABILITY\n",
      " **********\n",
      " **    6 **MIGRAD        1000           1\n",
      " **********\n",
      " FIRST CALL TO USER FUNCTION AT NEW START POINT, WITH IFLAG=4.\n",
      " START MIGRAD MINIMIZATION.  STRATEGY  1.  CONVERGENCE WHEN EDM .LT. 1.00e-03\n",
      " FCN=300954 FROM MIGRAD    STATUS=INITIATE        8 CALLS           9 TOTAL\n",
      "                     EDM= unknown      STRATEGY= 1      NO ERROR MATRIX       \n",
      "  EXT PARAMETER               CURRENT GUESS       STEP         FIRST   \n",
      "  NO.   NAME      VALUE            ERROR          SIZE      DERIVATIVE \n",
      "   1  mean         9.00000e+01   1.00000e+00   2.01358e-01  -1.54351e+04\n",
      "   2  sigma        5.00000e+00   9.00000e-01   2.02684e-01  -2.08982e+04\n",
      "                               ERR DEF= 0.5\n",
      " MIGRAD MINIMIZATION HAS CONVERGED.\n",
      " MIGRAD WILL VERIFY CONVERGENCE AND ERROR MATRIX.\n",
      " COVARIANCE MATRIX CALCULATED SUCCESSFULLY\n",
      " FCN=298710 FROM MIGRAD    STATUS=CONVERGED      45 CALLS          46 TOTAL\n",
      "                     EDM=1.15698e-07    STRATEGY= 1      ERROR MATRIX ACCURATE \n",
      "  EXT PARAMETER                                   STEP         FIRST   \n",
      "  NO.   NAME      VALUE            ERROR          SIZE      DERIVATIVE \n",
      "   1  mean         9.08079e+01   1.78576e-02   1.36593e-03  -8.12710e-02\n",
      "   2  sigma        5.51917e+00   1.26274e-02   1.05914e-03  -6.07903e-02\n",
      "                               ERR DEF= 0.5\n",
      " EXTERNAL ERROR MATRIX.    NDIM=  25    NPAR=  2    ERR DEF=0.5\n",
      "  3.189e-04  1.953e-07 \n",
      "  1.953e-07  1.595e-04 \n",
      " PARAMETER  CORRELATION COEFFICIENTS  \n",
      "       NO.  GLOBAL      1      2\n",
      "        1  0.00087   1.000  0.001\n",
      "        2  0.00087   0.001  1.000\n",
      " **********\n",
      " **    7 **SET ERR         0.5\n",
      " **********\n",
      " **********\n",
      " **    8 **SET PRINT           1\n",
      " **********\n",
      " **********\n",
      " **    9 **HESSE        1000\n",
      " **********\n",
      " COVARIANCE MATRIX CALCULATED SUCCESSFULLY\n",
      " FCN=298710 FROM HESSE     STATUS=OK             10 CALLS          56 TOTAL\n",
      "                     EDM=1.15433e-07    STRATEGY= 1      ERROR MATRIX ACCURATE \n",
      "  EXT PARAMETER                                INTERNAL      INTERNAL  \n",
      "  NO.   NAME      VALUE            ERROR       STEP SIZE       VALUE   \n",
      "   1  mean         9.08079e+01   1.78576e-02   5.46373e-05   1.62300e-01\n",
      "   2  sigma        5.51917e+00   1.26274e-02   4.23657e-05   4.26012e-03\n",
      "                               ERR DEF= 0.5\n",
      " EXTERNAL ERROR MATRIX.    NDIM=  25    NPAR=  2    ERR DEF=0.5\n",
      "  3.189e-04  8.580e-09 \n",
      "  8.580e-09  1.595e-04 \n",
      " PARAMETER  CORRELATION COEFFICIENTS  \n",
      "       NO.  GLOBAL      1      2\n",
      "        1  0.00004   1.000  0.000\n",
      "        2  0.00004   0.000  1.000\n",
      "[#1] INFO:Minization -- RooMinimizer::optimizeConst: deactivating const optimization\n"
     ]
    }
   ],
   "source": [
    "#Datos desde histograma DiMuM\n",
    "data = RooDataHist(\"data\",\"Dimuon Mass\",mass,DiMuM)\n",
    "#Ahora se usa el método fitTo de las clases PDFs contenidas en RooFit\n",
    "#para hacer el ajuste\n",
    "gaussPDF.fitTo(data)\n",
    "#gaussPDF.fitTo(data,ROOT.RooFit.Minimizer(\"Minutit2\",\"Migrad\"))"
   ]
  },
  {
   "cell_type": "code",
   "execution_count": 12,
   "metadata": {},
   "outputs": [
    {
     "name": "stdout",
     "output_type": "stream",
     "text": [
      "[#1] INFO:Plotting -- RooPlot::updateFitRangeNorm: New event count of 95521 will supercede previous event count of 1 for normalization of PDF projections\n"
     ]
    }
   ],
   "source": [
    "# Comparemos los datos con el fit\n",
    "# Graficamos los datos\n",
    "data.plotOn(massframe)\n",
    "# Ahora graficamos el mejor ajuste\n",
    "gaussPDF.plotOn(massframe)\n",
    "massframe.Draw() "
   ]
  },
  {
   "cell_type": "code",
   "execution_count": 13,
   "metadata": {},
   "outputs": [
    {
     "data": {
      "image/png": "[encoded data removed]",
      "text/plain": [
       "<IPython.core.display.Image object>"
      ]
     },
     "metadata": {},
     "output_type": "display_data"
    }
   ],
   "source": [
    "c1.Draw()"
   ]
  },
  {
   "cell_type": "markdown",
   "metadata": {},
   "source": [
    "Ahora intentemos con otra PDF llamada cristall ball line"
   ]
  },
  {
   "cell_type": "code",
   "execution_count": 14,
   "metadata": {},
   "outputs": [],
   "source": [
    "#Definimos los parametros de dicha PDF y sus rangos \n",
    "media = RooRealVar(\"media\",\" mean\",60.0,120.0);\n",
    "ancho = RooRealVar(\"ancho\",\"width\",1.0,10.0);\n",
    "n = RooRealVar(\"n\",\"n\",1,50);                                                                                                                                                                    \n",
    "alpha = RooRealVar(\"alpha\",\"alpha\",0,50);                                                                                                                                                        \n",
    "SigCB = RooCBShape(\"SigCB\",\" SignalCB PDF\",mass,media,ancho,alpha,n);"
   ]
  },
  {
   "cell_type": "code",
   "execution_count": 15,
   "metadata": {},
   "outputs": [
    {
     "data": {
      "image/png": "[encoded data removed]",
      "text/plain": [
       "<IPython.core.display.Image object>"
      ]
     },
     "metadata": {},
     "output_type": "display_data"
    }
   ],
   "source": [
    "#Creamos un Marco para graficar (es como un Path)\n",
    "Newframe = mass.frame()\n",
    "#Visualizo el modelo con los valores iniciales\n",
    "SigCB.plotOn(Newframe)\n",
    "#Si quiero ver como se comporta dependiendo de un parámetro\n",
    "media.setVal(90)\n",
    "ancho.setVal(3)\n",
    "n.setVal(1)\n",
    "alpha.setVal(5)\n",
    "#Grafico en el mismo marco\n",
    "gaussPDF.plotOn(Newframe)\n",
    "# Ahora lo ponemos en el canvas y mostramos\n",
    "Newframe.Draw()\n",
    "# Pongamos un título\n",
    "Newframe.SetTitle(\"Modelo Cristall Ball\")\n",
    "Newframe.GetYaxis().SetTitle(\"\")\n",
    "#c1.Update()\n",
    "c1.Draw()"
   ]
  },
  {
   "cell_type": "code",
   "execution_count": 16,
   "metadata": {},
   "outputs": [
    {
     "data": {
      "text/plain": [
       "<cppyy.gbl.RooFitResult object at 0x(nil)>"
      ]
     },
     "execution_count": 16,
     "metadata": {},
     "output_type": "execute_result"
    },
    {
     "name": "stdout",
     "output_type": "stream",
     "text": [
      "[#1] INFO:Minization -- RooMinimizer::optimizeConst: activating const optimization\n",
      " **********\n",
      " **    1 **SET PRINT           1\n",
      " **********\n",
      " **********\n",
      " **    2 **SET NOGRAD\n",
      " **********\n",
      " PARAMETER DEFINITIONS:\n",
      "    NO.   NAME         VALUE      STEP SIZE      LIMITS\n",
      "     1 alpha        5.00000e+00  2.50000e+00    0.00000e+00  5.00000e+01\n",
      "     2 ancho        3.00000e+00  9.00000e-01    1.00000e+00  1.00000e+01\n",
      "     3 media        9.00000e+01  6.00000e+00    6.00000e+01  1.20000e+02\n",
      "     4 n            1.00000e+00  4.90000e+00    1.00000e+00  5.00000e+01\n",
      " MINUIT WARNING IN PARAM DEF\n",
      " ============== STARTING VALUE IS AT LIMIT.\n",
      " MINUIT WARNING IN PARAMETR\n",
      " ============== VARIABLE4 IS AT ITS LOWER ALLOWED LIMIT.\n",
      " MINUIT WARNING IN PARAMETR\n",
      " ============== VARIABLE4 BROUGHT BACK INSIDE LIMITS.\n",
      " **********\n",
      " **    3 **SET ERR         0.5\n",
      " **********\n",
      " **********\n",
      " **    4 **SET PRINT           1\n",
      " **********\n",
      " **********\n",
      " **    5 **SET STR           1\n",
      " **********\n",
      " NOW USING STRATEGY  1: TRY TO BALANCE SPEED AGAINST RELIABILITY\n",
      " **********\n",
      " **    6 **MIGRAD        2000           1\n",
      " **********\n",
      " FIRST CALL TO USER FUNCTION AT NEW START POINT, WITH IFLAG=4.\n",
      " MINUIT WARNING IN MIGrad    \n",
      " ============== VARIABLE4 IS AT ITS LOWER ALLOWED LIMIT.\n",
      " START MIGRAD MINIMIZATION.  STRATEGY  1.  CONVERGENCE WHEN EDM .LT. 1.00e-03\n",
      " FCN=327266 FROM MIGRAD    STATUS=INITIATE       16 CALLS          17 TOTAL\n",
      "                     EDM= unknown      STRATEGY= 1      NO ERROR MATRIX       \n",
      "  EXT PARAMETER               CURRENT GUESS       STEP         FIRST   \n",
      "  NO.   NAME      VALUE            ERROR          SIZE      DERIVATIVE \n",
      "   1  alpha        5.00000e+00   2.50000e+00   1.72186e-01   1.50345e+05\n",
      "   2  ancho        3.00000e+00   9.00000e-01   2.46497e-01  -1.45758e+05\n",
      "   3  media        9.00000e+01   6.00000e+00   2.01358e-01  -4.07396e+05\n",
      "   4  n            1.00005e+00   4.90000e+00   3.20776e-01   1.56904e+02\n",
      "                               ERR DEF= 0.5\n",
      " MIGRAD MINIMIZATION HAS CONVERGED.\n",
      " FCN=281288 FROM MIGRAD    STATUS=CONVERGED     146 CALLS         147 TOTAL\n",
      "                     EDM=3.21522e-05    STRATEGY= 1  ERROR MATRIX UNCERTAINTY   7.0 per cent\n",
      "  EXT PARAMETER                                   STEP         FIRST   \n",
      "  NO.   NAME      VALUE            ERROR          SIZE      DERIVATIVE \n",
      "   1  alpha        2.04839e+00   7.31536e-03   1.22813e-05   5.01611e+00\n",
      "   2  ancho        3.88271e+00   9.85415e-03  -1.88670e-05  -6.16866e-01\n",
      "   3  media        9.15808e+01   1.32195e-02   4.27131e-06   4.20529e+00\n",
      "   4  n            1.00000e+00   2.57158e-04  -7.75851e-06** at limit **\n",
      "                               ERR DEF= 0.5\n",
      " EXTERNAL ERROR MATRIX.    NDIM=  25    NPAR=  4    ERR DEF=0.5\n",
      "  5.351e-05 -4.325e-06  5.969e-06 -6.201e-09 \n",
      " -4.325e-06  9.710e-05 -1.448e-05  3.817e-09 \n",
      "  5.969e-06 -1.448e-05  1.748e-04 -5.684e-09 \n",
      " -6.201e-09  3.817e-09 -5.684e-09  1.926e-10 \n",
      " PARAMETER  CORRELATION COEFFICIENTS  \n",
      "       NO.  GLOBAL      1      2      3      4\n",
      "        1  0.10011   1.000 -0.060  0.062 -0.061\n",
      "        2  0.12510  -0.060  1.000 -0.111  0.028\n",
      "        3  0.12652   0.062 -0.111  1.000 -0.031\n",
      "        4  0.07026  -0.061  0.028 -0.031  1.000\n",
      " **********\n",
      " **    7 **SET PRINT           1\n",
      " **********\n",
      " **********\n",
      " **    8 **SET NOGRAD\n",
      " **********\n",
      " PARAMETER DEFINITIONS:\n",
      "    NO.   NAME         VALUE      STEP SIZE      LIMITS\n",
      "     1 alpha        2.04839e+00  7.31536e-03    0.00000e+00  5.00000e+01\n",
      "     2 ancho        3.88271e+00  9.85415e-03    1.00000e+00  1.00000e+01\n",
      "     3 media        9.15808e+01  1.32195e-02    6.00000e+01  1.20000e+02\n",
      "     4 n            1.00000e+00  2.57158e-04    1.00000e+00  5.00000e+01\n",
      " MINUIT WARNING IN PARAMETR\n",
      " ============== VARIABLE4 IS AT ITS LOWER ALLOWED LIMIT.\n",
      " MINUIT WARNING IN PARAMETR\n",
      " ============== VARIABLE4 BROUGHT BACK INSIDE LIMITS.\n",
      " **********\n",
      " **    9 **SET ERR         0.5\n",
      " **********\n",
      " **********\n",
      " **   10 **SET PRINT           1\n",
      " **********\n",
      " **********\n",
      " **   11 **HESSE        2000\n",
      " **********\n",
      " FIRST CALL TO USER FUNCTION AT NEW START POINT, WITH IFLAG=4.\n",
      " MINUIT WARNING IN HESse     \n",
      " ============== VARIABLE4 IS AT ITS LOWER ALLOWED LIMIT.\n",
      " COVARIANCE MATRIX CALCULATED SUCCESSFULLY\n",
      " FCN=281288 FROM HESSE     STATUS=OK             27 CALLS          28 TOTAL\n",
      "                     EDM=0.0320086    STRATEGY= 1      ERROR MATRIX ACCURATE \n",
      "  EXT PARAMETER                                INTERNAL      INTERNAL  \n",
      "  NO.   NAME      VALUE            ERROR       STEP SIZE       VALUE   \n",
      "   1  alpha        2.04839e+00   7.38476e-03   7.38122e-05  -1.16317e+00\n",
      "   2  ancho        3.88271e+00   9.95376e-03   2.34660e-04  -3.67623e-01\n",
      "   3  media        9.15808e+01   1.32038e-02   4.41263e-05   5.27193e-02\n",
      "   4  n            1.00005e+00   1.47478e-03   1.54406e-02  -1.56884e+00\n",
      "                               ERR DEF= 0.5\n",
      " EXTERNAL ERROR MATRIX.    NDIM=  25    NPAR=  4    ERR DEF=0.5\n",
      "  5.453e-05  4.205e-06 -6.597e-06 -5.546e-07 \n",
      "  4.205e-06  9.908e-05 -1.282e-05  2.641e-08 \n",
      " -6.597e-06 -1.282e-05  1.743e-04 -9.663e-09 \n",
      " -5.546e-07  2.641e-08 -9.663e-09  2.757e-07 \n",
      " PARAMETER  CORRELATION COEFFICIENTS  \n",
      "       NO.  GLOBAL      1      2      3      4\n",
      "        1  0.16651   1.000  0.057 -0.068 -0.143\n",
      "        2  0.11064   0.057  1.000 -0.098  0.005\n",
      "        3  0.11611  -0.068 -0.098  1.000 -0.001\n",
      "        4  0.14400  -0.143  0.005 -0.001  1.000\n",
      "[#1] INFO:Minization -- RooMinimizer::optimizeConst: deactivating const optimization\n"
     ]
    },
    {
     "name": "stderr",
     "output_type": "stream",
     "text": [
      "Warning in <ROOT::Math::FitConfig::CreateMinimizer>: Could not create the Minutit2 minimizer. Try using the minimizer Minuit\n",
      "Info in <ROOT::Math::Fitter::DoUpdateMinimizerOptions: >: Using now Minutit2 / Migrad\n",
      "Warning in <ROOT::Math::FitConfig::CreateMinimizer>: Could not create the Minutit2 minimizer. Try using the minimizer Minuit\n"
     ]
    }
   ],
   "source": [
    "#Ahora se usa el método fitTo de las clases PDFs contenidas en RooFit\n",
    "#para hacer el ajuste\n",
    "SigCB.fitTo(data,RooFit.Minimizer(\"Minutit2\",\"Migrad\"))"
   ]
  },
  {
   "cell_type": "code",
   "execution_count": 17,
   "metadata": {},
   "outputs": [
    {
     "name": "stdout",
     "output_type": "stream",
     "text": [
      "[#1] INFO:Plotting -- RooPlot::updateFitRangeNorm: New event count of 95521 will supercede previous event count of 1 for normalization of PDF projections\n"
     ]
    },
    {
     "data": {
      "image/png": "[encoded data removed]",
      "text/plain": [
       "<IPython.core.display.Image object>"
      ]
     },
     "metadata": {},
     "output_type": "display_data"
    }
   ],
   "source": [
    "# Comparemos los datos con el fit\n",
    "# Graficamos los datos\n",
    "\n",
    "data.plotOn(Newframe)\n",
    "# Ahora graficamos el mejor ajuste\n",
    "SigCB.plotOn(Newframe)\n",
    "Newframe.Draw() \n",
    "c1.Draw()"
   ]
  },
  {
   "cell_type": "code",
   "execution_count": null,
   "metadata": {},
   "outputs": [],
   "source": []
  },
  {
   "cell_type": "code",
   "execution_count": null,
   "metadata": {},
   "outputs": [],
   "source": []
  }
 ],
 "metadata": {
  "colab": {
   "collapsed_sections": [],
   "name": "BasicAnalysis.ipynb",
   "provenance": []
  },
  "kernelspec": {
   "display_name": "Python 3",
   "language": "python",
   "name": "python3"
  },
  "language_info": {
   "codemirror_mode": {
    "name": "ipython",
    "version": 3
   },
   "file_extension": ".py",
   "mimetype": "text/x-python",
   "name": "python",
   "nbconvert_exporter": "python",
   "pygments_lexer": "ipython3",
   "version": "3.8.6"
  }
 },
 "nbformat": 4,
 "nbformat_minor": 1
}
