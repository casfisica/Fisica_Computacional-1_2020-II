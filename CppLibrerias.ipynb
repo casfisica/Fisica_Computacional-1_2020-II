{
 "cells": [
  {
   "cell_type": "markdown",
   "metadata": {},
   "source": [
    "# Algunas Librerias Útiles en C++ \n",
    "\n",
    "## Encabezados (Headers)\n",
    "\n",
    "C tiene numerosas bibliotecas que incluyen funciones predefinidas para facilitar la programación. En lenguaje C, los archivos de encabezado contienen el conjunto de funciones de biblioteca estándar predefinidas. \n",
    "\n",
    "Para poder utilizar un archivo de encabezado en los programas de debe de incluir usando `#include`. Todo los archivos de encabezados tienen una extensión \".h\" para C y \".hpp\" para C++. Al incluir un archivo de encabezado, podemos usar las funciones contenidas por este en nuestro programa.\n",
    "\n",
    "Un archivo de encabezado contiene:\n",
    "- Definiciones de funciones.\n",
    "- Definiciones de tipos de datos.\n",
    "- Macros.\n",
    "\n",
    "Ya emos usado el archivo de encabezado que significa flujo de entrada y salida que se usa para tomar la entrada con la ayuda de `cin` y `cout` respectivamente. \n",
    "\n",
    "Hay dos tipos de archivos de encabezado:\n",
    "\n",
    "- __Archivos de encabezado preexistentes:__ archivos que ya están disponibles en el compilador C / C ++, solo tenemos que importarlos.\n",
    "\n",
    "__Sintaxis:__\n",
    "\n",
    "    #include <nombre de archivo.h>\n",
    "    \n",
    "- __Archivos de encabezado definidos por el usuario:__ estos archivos los define el usuario y se pueden importar usando `#include`.\n",
    "\n",
    "__Sintaxis:__\n",
    "\n",
    "    #include \"nombrearchivo.h\"\n",
    "\n",
    "El preprocesador `#include` es responsable de indicar al compilador que el archivo de encabezado debe procesarse antes de la compilación e incluye todas las definiciones de funciones y tipos de datos necesarios.\n",
    "\n",
    "\n",
    "__Ejemplo:__ Creamos un archivo _suma.hpp_ que contiene lo siguiente código\n",
    "\n",
    "    /**\n",
    "    *Función que suma dos enteros\n",
    "    */ \n",
    "    int SumaEnteros(int a, int b) \n",
    "    { \n",
    "        return (a + b); \n",
    "    } \n",
    "    \n",
    "Y otro archivo _EjemHeader.cpp_ con el     \n",
    "    \n",
    "    /**\n",
    "    * Programa para ilustrar el uso de los headers\n",
    "    * definidos por el usuario \n",
    "    */\n",
    "    //Incluyo el header de la librería estándar de entrada y salida\n",
    "    #include <iostream> \n",
    "    using namespace std;\n",
    "    \n",
    "    // Incluyo el header de la librería de usuario \n",
    "    #include \"suma.hpp\" \n",
    "     \n",
    "\n",
    "    // Programa\n",
    "    int main() \n",
    "    { \n",
    "\n",
    "        // Definimos dos números \n",
    "        int a = 2, b = 100; \n",
    "\n",
    "        // Usamos la función declarada en el header \n",
    "        cout << \"a+b= \" << SumaEnteros(a, b) << endl; \n",
    "    } "
   ]
  },
  {
   "cell_type": "code",
   "execution_count": 4,
   "metadata": {},
   "outputs": [
    {
     "name": "stderr",
     "output_type": "stream",
     "text": [
      "In file included from input_line_52:12:\n",
      "\u001b[1m./suma.hpp:5:1: \u001b[0m\u001b[0;1;31merror: \u001b[0m\u001b[1mfunction definition is not allowed here\u001b[0m\n",
      "{ \n",
      "\u001b[0;1;32m^\n",
      "\u001b[0m"
     ]
    }
   ],
   "source": [
    "\n",
    "    /**\n",
    "    * Programa para ilustrar el uso de los headers\n",
    "    * definidos por el usuario \n",
    "    */\n",
    "    //Incluyo el header de la librería estándar de entrada y salida\n",
    "    #include <iostream> \n",
    "    using namespace std;\n",
    "    \n",
    "    // Incluyo el header de la librería de usuario \n",
    "    #include \"suma.hpp\" \n"
   ]
  },
  {
   "cell_type": "markdown",
   "metadata": {},
   "source": [
    "# C++ Files and Streams\n",
    "Hasta ahora, hemos estado usando la biblioteca estándar `iostream`, que proporciona los métodos `cin` y `cout` para leer desde la entrada estándar y escribir en la salida estándar, respectivamente.\n",
    "\n",
    "Ahora vamos a ver cómo leer y escribir desde un archivo. Esto requiere de otra biblioteca estándar de C++ llamada `fstream`, que define tres nuevos tipos de datos:\n",
    "\n",
    "- __`ofstream`:__ Este tipo de datos representa el flujo del archivo de salida y se utiliza para crear archivos y escribir información en archivos.\n",
    "\n",
    "- __`ifstream`:__ Este tipo de datos representa el flujo de archivos de entrada y se utiliza para leer información de archivos.\n",
    "\n",
    "- __`fstream`:__ Este tipo de datos representa el flujo de archivos en general, y tiene las capacidades de ofstream e ifstream, lo que significa que puede crear archivos, escribir información en archivos y leer información de archivos.\n",
    "\n",
    "__Ejemplo:__"
   ]
  },
  {
   "cell_type": "code",
   "execution_count": null,
   "metadata": {},
   "outputs": [],
   "source": []
  },
  {
   "cell_type": "code",
   "execution_count": null,
   "metadata": {},
   "outputs": [],
   "source": []
  },
  {
   "cell_type": "markdown",
   "metadata": {},
   "source": [
    "C++ Standard Library"
   ]
  },
  {
   "cell_type": "markdown",
   "metadata": {},
   "source": [
    "Namespaces in C++"
   ]
  },
  {
   "cell_type": "markdown",
   "metadata": {},
   "source": [
    "C++ Dynamic Memory"
   ]
  },
  {
   "cell_type": "markdown",
   "metadata": {},
   "source": [
    "std::vector"
   ]
  },
  {
   "cell_type": "markdown",
   "metadata": {},
   "source": [
    "Random Number Generator"
   ]
  }
 ],
 "metadata": {
  "kernelspec": {
   "display_name": "ROOT C++",
   "language": "c++",
   "name": "root"
  },
  "language_info": {
   "codemirror_mode": "text/x-c++src",
   "file_extension": ".C",
   "mimetype": " text/x-c++src",
   "name": "c++"
  }
 },
 "nbformat": 4,
 "nbformat_minor": 4
}
