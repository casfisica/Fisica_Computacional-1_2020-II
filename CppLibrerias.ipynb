{
 "cells": [
  {
   "cell_type": "markdown",
   "metadata": {},
   "source": [
    "# Algunas Librerias Útiles en C++ \n",
    "\n",
    "## Encabezados (Headers)\n",
    "\n",
    "C tiene numerosas bibliotecas que incluyen funciones predefinidas para facilitar la programación. En lenguaje C, los archivos de encabezado contienen el conjunto de funciones de biblioteca estándar predefinidas. \n",
    "\n",
    "Para poder utilizar un archivo de encabezado en los programas de debe de incluir usando `#include`. Todo los archivos de encabezados tienen una extensión \".h\" para C y \".hpp\" para C++. Al incluir un archivo de encabezado, podemos usar las funciones contenidas por este en nuestro programa.\n",
    "\n",
    "Un archivo de encabezado contiene:\n",
    "- Definiciones de funciones.\n",
    "- Definiciones de tipos de datos.\n",
    "- Macros.\n",
    "\n",
    "Ya emos usado el archivo de encabezado que significa flujo de entrada y salida que se usa para tomar la entrada con la ayuda de `cin` y `cout` respectivamente. \n",
    "\n",
    "Hay dos tipos de archivos de encabezado:\n",
    "\n",
    "- __Archivos de encabezado preexistentes:__ archivos que ya están disponibles en el compilador C / C ++, solo tenemos que importarlos.\n",
    "\n",
    "__Sintaxis:__\n",
    "\n",
    "    #include <nombre de archivo.h>\n",
    "    \n",
    "- __Archivos de encabezado definidos por el usuario:__ estos archivos los define el usuario y se pueden importar usando `#include`.\n",
    "\n",
    "__Sintaxis:__\n",
    "\n",
    "    #include \"nombrearchivo.h\"\n",
    "\n",
    "El preprocesador `#include` es responsable de indicar al compilador que el archivo de encabezado debe procesarse antes de la compilación e incluye todas las definiciones de funciones y tipos de datos necesarios."
   ]
  },
  {
   "cell_type": "markdown",
   "metadata": {},
   "source": [
    "__Ejemplo:__ Creamos un archivo _suma.hpp_ que contiene lo siguiente código\n",
    "\n",
    "    /**\n",
    "    *Función que suma dos enteros\n",
    "    */ \n",
    "    int SumaEnteros(int a, int b) \n",
    "    { \n",
    "        return (a + b); \n",
    "    } \n",
    "    \n",
    "Y otro archivo _EjemHeader.cpp_ con el     \n",
    "    \n",
    "    /**\n",
    "    * Programa para ilustrar el uso de los headers\n",
    "    * definidos por el usuario \n",
    "    */\n",
    "    //Incluyo el header de la librería estándar de entrada y salida\n",
    "    #include <iostream> \n",
    "    using namespace std;\n",
    "    \n",
    "    // Incluyo el header de la librería de usuario \n",
    "    #include \"suma.hpp\" \n",
    "     \n",
    "\n",
    "    // Programa\n",
    "    int main() \n",
    "    { \n",
    "\n",
    "        // Definimos dos números \n",
    "        int a = 2, b = 100; \n",
    "\n",
    "        // Usamos la función declarada en el header \n",
    "        cout << \"a+b= \" << SumaEnteros(a, b) << endl; \n",
    "    } \n",
    "    \n",
    "Y se compila utilizando el comando general `g++ EjemHeader.cpp -o EjemHeader`.\n",
    "\n",
    "El problema con este forma de usar el header, es que en todos los lugares donde queremos reutilizar una función de `SumaEnteros`, tenemos que declararla hacia adelante. Si tenemos varios archivos que lo necesitan, terminamos poniendo exactamente el mismo código de declaración en todos ellos, lo cual es una mala práctica. El uso de un archivo de encabezado (_suma.hpp_) puede simplificar las cosas como se muestra en el siguiente ejemplo, donde colocamos la declaración en _suma2.hpp_ y la incluimos en _EjemHeader2.cpp_.\n",
    "\n",
    "\n",
    "__Ejemplo:__ Creamos un archivo _suma2.hpp_ que contiene lo siguiente código\n",
    "\n",
    "    /**\n",
    "    *Función que suma dos enteros\n",
    "    * Solo la declaración\n",
    "    */ \n",
    "    int SumaEnteros(int a, int b);\n",
    "     \n",
    "\n",
    "otro archivo _suma2.cpp_ donde ponemos la defición de suma.  __Nota:__ Se debe de incluir el Header _suma2.hpp_\n",
    "    \n",
    "    /**\n",
    "    *Función que suma dos enteros\n",
    "    * La definición o\n",
    "    */ \n",
    "    \n",
    "    #include \"suma2.hpp\" \n",
    "    \n",
    "    int SumaEnteros(int a, int b) \n",
    "    { \n",
    "        return (a + b); \n",
    "    }\n",
    "        \n",
    "y por último un archivo _EjemHeader2.cpp_ con el     \n",
    "    \n",
    "    /**\n",
    "    * Programa para ilustrar el uso de los headers\n",
    "    * definidos por el usuario \n",
    "    */\n",
    "    //Incluyo el header de la librería estándar de entrada y salida\n",
    "    #include <iostream> \n",
    "    using namespace std;\n",
    "    \n",
    "    // Incluyo el header de la librería de usuario \n",
    "    #include \"suma2.hpp\" \n",
    "     \n",
    "\n",
    "    // Programa\n",
    "    int main() \n",
    "    { \n",
    "\n",
    "        // Definimos dos números \n",
    "        int a = 2, b = 100; \n",
    "\n",
    "        // Usamos la función declarada en el header \n",
    "        cout << \"a+b= \" << SumaEnteros(a, b) << endl; \n",
    "    } \n",
    "    \n",
    " A diferencia del anterior debemos compilar por partes, a lo que se llama __Enlace__.\n",
    " \n",
    "     g++ -c suma2.cpp -o suma2.o\n",
    "     g++ EjemHeader2.cpp -o EjemHeader2\n",
    "     g++ EjemHeader2.o suma2.o -o EjemHeader2\n"
   ]
  },
  {
   "cell_type": "markdown",
   "metadata": {},
   "source": [
    "### Enlace (Linking)\n",
    "El enlazado es el proceso de generar ejecutables a partir de varios archivos de objeto. Durante el enlazado, todos los símbolos deben encontrar su definición. De lo contrario, el vinculador se quejará y emitirá un error.\n",
    "Lo podemos asociar con etapas anteriores. El preprocesamiento y la compilación traducen los archivos de origen en archivos de objeto que pueden tener partes faltantes, como la definición de funciones / clases. El vinculador vincula archivos de objetos para crear un ejecutable y completar la parte que falta. Veamos un ejemplo para compilar varios archivos de origen, incluido el enlace:"
   ]
  },
  {
   "cell_type": "code",
   "execution_count": null,
   "metadata": {},
   "outputs": [],
   "source": []
  },
  {
   "cell_type": "code",
   "execution_count": null,
   "metadata": {},
   "outputs": [],
   "source": []
  },
  {
   "cell_type": "code",
   "execution_count": null,
   "metadata": {},
   "outputs": [],
   "source": []
  },
  {
   "cell_type": "markdown",
   "metadata": {},
   "source": [
    "### ¿Qué poner y no poner en los archivos de encabezado?\n",
    "\n",
    "- Declaraciones de funciones o variables, \n",
    "- No definiciones (como en el ejemplo anterior). Generalmente, no se debe de poner definiciones de función (métodos) o variable(atributo) en archivos de encabezado. \n",
    "\n",
    "2. Compilación y 3. Vinculación), la razón es que viola la “regla de una definición”. Una vez que comience a usar el archivo de encabezado en varios archivos, en la etapa de compilación o en la etapa de enlace, el compilador verá múltiples definiciones, lo cual es ilegal.\n",
    "2.2 Se permiten definiciones de Enum / Struct / Class\n",
    "Sin embargo, podemos poner definiciones de enum / struct / class en los encabezados. Se permite que las mismas definiciones estén en archivos diferentes. Mira este ejemplo. Ponemos una definición de estructura en el archivo de encabezado util.h."
   ]
  },
  {
   "cell_type": "code",
   "execution_count": null,
   "metadata": {},
   "outputs": [],
   "source": []
  },
  {
   "cell_type": "markdown",
   "metadata": {},
   "source": [
    "# C++ Files and Streams\n",
    "Hasta ahora, hemos estado usando la biblioteca estándar `iostream`, que proporciona los métodos `cin` y `cout` para leer desde la entrada estándar y escribir en la salida estándar, respectivamente.\n",
    "\n",
    "Ahora vamos a ver cómo leer y escribir desde un archivo. Esto requiere de otra biblioteca estándar de C++ llamada `fstream`, que define tres nuevos tipos de datos:\n",
    "\n",
    "- __`ofstream`:__ Este tipo de datos representa el flujo del archivo de salida y se utiliza para crear archivos y escribir información en archivos.\n",
    "\n",
    "- __`ifstream`:__ Este tipo de datos representa el flujo de archivos de entrada y se utiliza para leer información de archivos.\n",
    "\n",
    "- __`fstream`:__ Este tipo de datos representa el flujo de archivos en general, y tiene las capacidades de ofstream e ifstream, lo que significa que puede crear archivos, escribir información en archivos y leer información de archivos.\n",
    "\n",
    "__Ejemplo:__"
   ]
  },
  {
   "cell_type": "code",
   "execution_count": null,
   "metadata": {},
   "outputs": [],
   "source": []
  },
  {
   "cell_type": "code",
   "execution_count": null,
   "metadata": {},
   "outputs": [],
   "source": []
  },
  {
   "cell_type": "markdown",
   "metadata": {},
   "source": [
    "C++ Standard Library"
   ]
  },
  {
   "cell_type": "markdown",
   "metadata": {},
   "source": [
    "Namespaces in C++"
   ]
  },
  {
   "cell_type": "markdown",
   "metadata": {},
   "source": [
    "C++ Dynamic Memory"
   ]
  },
  {
   "cell_type": "markdown",
   "metadata": {},
   "source": [
    "std::vector"
   ]
  },
  {
   "cell_type": "markdown",
   "metadata": {},
   "source": [
    "Random Number Generator"
   ]
  }
 ],
 "metadata": {
  "kernelspec": {
   "display_name": "ROOT C++",
   "language": "c++",
   "name": "root"
  },
  "language_info": {
   "codemirror_mode": "text/x-c++src",
   "file_extension": ".C",
   "mimetype": " text/x-c++src",
   "name": "c++"
  }
 },
 "nbformat": 4,
 "nbformat_minor": 4
}
