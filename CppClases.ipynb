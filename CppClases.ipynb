{
 "cells": [
  {
   "cell_type": "markdown",
   "metadata": {},
   "source": [
    "# Programación Basada en Objetos.\n",
    "\n",
    "## Clases.\n",
    "\n",
    "Son una estructura abstracta de datos que contiene atributos y metodos\n",
    "- __Atributos:__ son las variables de las clases.\n",
    "- __Métodos:__ son las \"funciones\" de la clase.\n",
    "\n",
    "__Ejemplo:__ Vamos a crear la clase Hola, para ilustrar la sintaxis básica de las clases en C++"
   ]
  },
  {
   "cell_type": "code",
   "execution_count": 1,
   "metadata": {},
   "outputs": [],
   "source": [
    "//Para llamar los elementos de las librerías\n",
    "#include<iostream>\n",
    "using std::cout;\n",
    "using std::endl;\n",
    "\n",
    "/**\n",
    "*Clase Hola\n",
    "*/\n",
    "class Hola //Declaro la Clase\n",
    "{ \n",
    "    public: // Espesificador de Acceso (Hablaremos de esto más adelante) \n",
    "\n",
    "    /// Atributo tipo string\n",
    "    string Nombre; \n",
    "  \n",
    "    /// Método tipo vacío \n",
    "    void PrintName( void ){ \n",
    "        cout << \"Hola \" << Nombre; \n",
    "    } \n",
    "};"
   ]
  },
  {
   "cell_type": "markdown",
   "metadata": {},
   "source": [
    "## Objeto \n",
    "Es una instancia de una clase, es cuando declaro una variable del tipo de la clase.\n",
    "\n",
    "__Ejemplo:__ Instancio un objeto de la clase `Hola`, modifico el atributo `Nombre` utilizando el operador `.` y uso el método `PrintName()`."
   ]
  },
  {
   "cell_type": "code",
   "execution_count": 2,
   "metadata": {},
   "outputs": [
    {
     "name": "stdout",
     "output_type": "stream",
     "text": [
      "Hola Camilo"
     ]
    }
   ],
   "source": [
    "// Creo un objeto de la clase Hola.\n",
    "Hola Elemento;\n",
    "// Asigno un valor al atributo \"Nombre\"\n",
    "Elemento.Nombre = \"Camilo\";\n",
    "//Uso el Método\n",
    "Elemento.PrintName();"
   ]
  },
  {
   "cell_type": "markdown",
   "metadata": {},
   "source": [
    "## Encapsulacion.\n",
    "Lo que llamamos en el ejemplo anterior como __Espesificador de Acceso__, le da diferentes opciones de acceso a los datos en tres niveles:\n",
    "\n",
    "- `public`: Un miembro público es accesible desde cualquier lugar fuera de la clase pero dentro de un programa. Puede establecer y obtener el valor de las variables públicas sin ninguna función miembro.\n",
    "\n",
    "- `private`: No se puede acceder a una función o variable miembro privada, ni siquiera se puede ver desde fuera de la clase. Solo las funciones de clase y amigo pueden acceder a miembros privados.\n",
    "\n",
    "- `protected`: Un atributo o método protegido es muy similar a un miembro privado, pero proporcioná un beneficio adicional, pues dichos elementos se pueden acceder desde clases secundarias que se denominan clases derivadas.\n",
    "\n",
    "Una clase puede tener varias secciones etiquetadas `public`, `protected` o `private`. Cada sección permanece en vigor hasta que se ve otra etiqueta de sección o la llave de cierre derecha del cuerpo de la clase. El acceso predeterminado para miembros y clases es `privado`.\n",
    "\n",
    "__Ejemplo:__ Creemos una clase Cuadrado (por el momento no se mostrará la diferencia entre `protected` y `private`)"
   ]
  },
  {
   "cell_type": "code",
   "execution_count": 3,
   "metadata": {},
   "outputs": [],
   "source": [
    "#include <iostream> \n",
    "using namespace std;\n",
    "\n",
    "/**\n",
    "*Clase Cuadrado\n",
    "*/\n",
    "class Cuadrado {\n",
    "    //Métodos públicos\n",
    "    public:\n",
    "        ///Método Set\n",
    "        void SetLado( double Lad ){\n",
    "            Lado = Lad;\n",
    "        }\n",
    "    \n",
    "        ///Método Get\n",
    "        double GetLado( void ){\n",
    "            return Lado;\n",
    "        }\n",
    " \n",
    "    //Atributos privados\n",
    "    private:\n",
    "        ///Atributo Lado del cuadrado\n",
    "        double Lado;\n",
    "};"
   ]
  },
  {
   "cell_type": "code",
   "execution_count": 4,
   "metadata": {},
   "outputs": [
    {
     "name": "stdout",
     "output_type": "stream",
     "text": [
      "El Lado del cuadrado: 10\n"
     ]
    }
   ],
   "source": [
    "//Creo un objeto cuadrado\n",
    "Cuadrado Cua;\n",
    "//Le asigno un valor al Lado a travez de la función `SetLado()`\n",
    "Cua.SetLado(10);\n",
    "//Imprimo el valor del lado usando el método `GetLado()`\n",
    "cout << \"El Lado del cuadrado: \" << Cua.GetLado() << endl;"
   ]
  },
  {
   "cell_type": "markdown",
   "metadata": {},
   "source": [
    "__Ejemplo2:__ \n",
    "Si trata de llamar un atrbuto o método `private` obtendrá un error"
   ]
  },
  {
   "cell_type": "code",
   "execution_count": 5,
   "metadata": {},
   "outputs": [
    {
     "name": "stderr",
     "output_type": "stream",
     "text": [
      "\u001b[1minput_line_53:3:41: \u001b[0m\u001b[0;1;31merror: \u001b[0m\u001b[1m'Lado' is a private member of 'Cuadrado'\u001b[0m\n",
      "cout << \"El Lado del cuadrado: \" << Cua.Lado << endl;\n",
      "\u001b[0;1;32m                                        ^\n",
      "\u001b[0m\u001b[1minput_line_51:24:16: \u001b[0m\u001b[0;1;30mnote: \u001b[0mdeclared private here\u001b[0m\n",
      "        double Lado;\n",
      "\u001b[0;1;32m               ^\n",
      "\u001b[0m"
     ]
    }
   ],
   "source": [
    "//LLamando al atributo\n",
    "cout << \"El Lado del cuadrado: \" << Cua.Lado << endl;"
   ]
  },
  {
   "cell_type": "markdown",
   "metadata": {},
   "source": [
    "## Constructores y Destructores\n",
    "\n",
    "El __Constructor__ de una clase es un método especial que se ejecuta cada vez que creamos nuevos objetos de esa clase. Un constructor tiene exactamente el mismo nombre que la clase y __no tiene ningún tipo de retorno, ni siquiera vacío__. Los constructores pueden ser muy útiles para establecer valores iniciales para ciertas variables miembro.\n",
    "\n",
    "El __Destructor__ de una clase es un método especial que se ejecuta cada vez que un objeto de su clase sale del alcance o siempre que la expresión de eliminación se aplica a un puntero al objeto de esa clase. Un destructor tiene exactamente el mismo nombre que la clase precidido con una tilde _(~)_ y no puede devolver un valor ni tomar ningún parámetro. Destructor puede ser muy útil para liberar recursos antes de salir del programa, como cerrar archivos, liberar recuerdos, etc.\n",
    "\n",
    "__Ejemplo:__ "
   ]
  },
  {
   "cell_type": "code",
   "execution_count": 6,
   "metadata": {},
   "outputs": [],
   "source": [
    "#include <iostream>\n",
    "using namespace std;\n",
    "\n",
    "/**\n",
    "* Clase Linea\n",
    "*/\n",
    "class Linea1 {\n",
    "    public:\n",
    "        //Método Set\n",
    "        void SetLongitud( double Lon ){\n",
    "            Longitud = Lon;\n",
    "          }\n",
    "    \n",
    "        //Método Get\n",
    "        double GetLongitud( void ){\n",
    "            return Longitud;\n",
    "        }\n",
    "        \n",
    "        ///Constructor\n",
    "        Linea1(){\n",
    "            cout << \"Objeto Linea Creado \"<< endl;\n",
    "          }\n",
    "        \n",
    "        ///Destructor\n",
    "        ~Linea1(){\n",
    "            cout << \"Objeto Linea Eliminado \"<< endl;\n",
    "          }\n",
    "    \n",
    "    private:\n",
    "        //Atributo Longitud\n",
    "        double Longitud;\n",
    "};"
   ]
  },
  {
   "cell_type": "code",
   "execution_count": 7,
   "metadata": {},
   "outputs": [
    {
     "name": "stdout",
     "output_type": "stream",
     "text": [
      "Objeto Linea Creado \n",
      "Longitud: 10.1\n",
      "Objeto Linea Eliminado \n"
     ]
    }
   ],
   "source": [
    "//Función prara crear y modificar una linea\n",
    "int funcion1(){\n",
    "    //Creo una linea\n",
    "    Linea1 Lin1;\n",
    "    Lin1.SetLongitud(10.1);\n",
    "    cout<< \"Longitud: \" <<Lin1.GetLongitud()<<endl;\n",
    "    return 0;\n",
    "    }\n",
    "// LLamo la Función\n",
    "funcion1();"
   ]
  },
  {
   "cell_type": "markdown",
   "metadata": {},
   "source": [
    "### Constructor Parametrizado\n",
    "Un constructor predeterminado no tiene ningún parámetro, pero si lo necesita, un constructor puede tener parámetros. Esto le ayuda a asignar un valor inicial a un objeto en el momento de su creación.\n",
    "\n",
    "__Ejemplo:__"
   ]
  },
  {
   "cell_type": "code",
   "execution_count": 8,
   "metadata": {},
   "outputs": [],
   "source": [
    "/**\n",
    "* Clase Linea2\n",
    "*/\n",
    "class Linea2 {\n",
    "    public:\n",
    "        //Método Set\n",
    "        void SetLongitud( double Lon ){\n",
    "            Longitud = Lon;\n",
    "          }\n",
    "    \n",
    "        //Método Get\n",
    "        double GetLongitud( void ){\n",
    "            return Longitud;\n",
    "        }\n",
    "        \n",
    "        ///Constructor con parametros\n",
    "        Linea2( double Lon ){\n",
    "            cout << \"Objeto Linea Creado \"<< endl;\n",
    "            Longitud = Lon;\n",
    "          }\n",
    "        \n",
    "        ///Destructor\n",
    "        ~Linea2(){\n",
    "            cout << \"Objeto Linea Eliminado \"<< endl;\n",
    "          }\n",
    "    \n",
    "    private:\n",
    "        //Atributo Longitud\n",
    "        double Longitud;\n",
    "};"
   ]
  },
  {
   "cell_type": "code",
   "execution_count": 9,
   "metadata": {},
   "outputs": [
    {
     "name": "stdout",
     "output_type": "stream",
     "text": [
      "Objeto Linea Creado \n",
      "Longitud: 10.1\n",
      "Objeto Linea Eliminado \n"
     ]
    }
   ],
   "source": [
    "//Función prara crear y modificar una linea\n",
    "int funcion2(){\n",
    "    //Creo una linea\n",
    "    Linea2 Lin2(10.1);\n",
    "    cout<< \"Longitud: \" <<Lin2.GetLongitud()<<endl;\n",
    "    return 0;\n",
    "    }\n",
    "// LLamo la Función\n",
    "funcion2();"
   ]
  },
  {
   "cell_type": "markdown",
   "metadata": {},
   "source": [
    "## Puntero this\n",
    "\n",
    "Cada objeto en C ++ tiene acceso a su propia dirección a través de un puntero importante llamado este puntero. Este puntero es un parámetro implícito para todas las funciones miembro. Por lo tanto, dentro de una función miembro, esto puede usarse para referirse al objeto que invoca.\n",
    "\n",
    "__Ejemplo:__"
   ]
  },
  {
   "cell_type": "code",
   "execution_count": 10,
   "metadata": {},
   "outputs": [],
   "source": [
    "#include <iostream>\n",
    "using namespace std;\n",
    "\n",
    "/**\n",
    "*Clase Cubo\n",
    "*/\n",
    "class Cubo {\n",
    "    public:\n",
    "        // Constructor con valores por defecto\n",
    "        Cubo(double lon = 2.0, double anc = 2.0, double alt = 2.0) {\n",
    "            cout <<\"Objeto de la clase Cubo creado\" << endl;\n",
    "            longitud = lon;\n",
    "            ancho = anc;\n",
    "            altura = alt;\n",
    "        }\n",
    "        ///Método Volumen\n",
    "        double Volumen( void ) {\n",
    "            return longitud * ancho * altura;\n",
    "        }\n",
    "    \n",
    "        /**\n",
    "        *Método para comparar Cubos usando el puntero this\n",
    "        *compara el objeto propio con el que se pasa como\n",
    "        *argumento.\n",
    "        */\n",
    "    \n",
    "        int Compare(Cubo cubo) {\n",
    "            return this->Volumen() > cubo.Volumen();\n",
    "        }\n",
    "      \n",
    "    private:\n",
    "        double longitud;     // Length of a box\n",
    "        double ancho;    // Breadth of a box\n",
    "        double altura;     // Height of a box\n",
    "};"
   ]
  },
  {
   "cell_type": "code",
   "execution_count": 11,
   "metadata": {},
   "outputs": [
    {
     "name": "stdout",
     "output_type": "stream",
     "text": [
      "Objeto de la clase Cubo creado\n",
      "Objeto de la clase Cubo creado\n",
      "El cubo1 es tiene más volumen\n"
     ]
    }
   ],
   "source": [
    "//Creando dos objetos de la clase cubo\n",
    "Cubo cubo1;\n",
    "Cubo cubo2(1.0,1.0,1.0);\n",
    "\n",
    "//Comparo los dos cubos usando la fuc\n",
    "if(cubo1.Compare(cubo2)) {\n",
    "      cout << \"El cubo1 es tiene más volumen\" <<endl;\n",
    "   } else {\n",
    "      cout << \"El cubo2 es tiene más volumen\" <<endl;\n",
    "   }"
   ]
  },
  {
   "cell_type": "markdown",
   "metadata": {},
   "source": [
    "## Puntero a una Clase\n",
    "\n",
    "Un puntero a una clase de C ++ se hace exactamente de la misma manera que un puntero a una estructura y para acceder a los miembros de un puntero a una clase, usa el operador de acceso a miembros `->` operador, tal como lo hace con los punteros a estructuras. Además, como con todos los punteros, debe inicializar el puntero antes de usarlo.\n",
    "\n",
    "__Ejemplo:__ Usemos la clase Cubo para mostrar este concepto"
   ]
  },
  {
   "cell_type": "code",
   "execution_count": 12,
   "metadata": {},
   "outputs": [
    {
     "name": "stdout",
     "output_type": "stream",
     "text": [
      "Objeto de la clase Cubo creado\n",
      "Objeto de la clase Cubo creado\n",
      "El ptrcubo2 contiene la dirección del cubo con más volumen\n"
     ]
    }
   ],
   "source": [
    "//creo un objeto Cubo\n",
    "Cubo cubo3(1.0,1.0,1.0);\n",
    "//creo dos punteros a objeto Cubo, inicializo el segundo\n",
    "Cubo* ptrcubo1;\n",
    "Cubo* ptrcubo2 = new Cubo(3,2,2);\n",
    "// le paso la dirección del cubo3 a ptrcubo1\n",
    "ptrcubo1 = &cubo3;\n",
    "//Ahora los comparo usando los operadores -> y *\n",
    "if(ptrcubo1->Compare(*ptrcubo2)) {\n",
    "      cout << \"El ptrcubo1 contiene la dirección del cubo con más volumen\" <<endl;\n",
    "   } else {\n",
    "      cout << \"El ptrcubo2 contiene la dirección del cubo con más volumen\" <<endl;\n",
    "   }"
   ]
  },
  {
   "cell_type": "markdown",
   "metadata": {},
   "source": [
    "## Miembros Estáticos de la Clase\n",
    "\n",
    "Podemos definir los miembros de la clase estáticos usando una palabra clave `static`. Cuando declaramos un miembro de una clase como estático, significa que no importa cuántos objetos de la clase se creen, solo hay una copia del miembro estático.\n",
    "\n",
    "\n",
    "### Atributos Estáticos\n",
    "Los valores de todos los datos estáticos son compartidos por todos los objetos de la clase y deben de ser inicializados.\n",
    "\n",
    "__Ejemplo:__ Este ejemplo es para compilar, pues los atributos estáticos deben de ser enlazados e tiempo de compilación, lo que no es posible para C++ interpretado."
   ]
  },
  {
   "cell_type": "raw",
   "metadata": {},
   "source": [
    "#include <iostream>\n",
    "using namespace std;\n",
    "    \n",
    "class Estudiante {\n",
    "    public:\n",
    "        static int NEstudiantes;\n",
    "      \n",
    "        /// Constructor\n",
    "        Estudiante(string Nom, int Ed) {\n",
    "            cout <<\"Objeto Estudiante creado\" << endl;\n",
    "            Nombre = Nom;\n",
    "            Edad = Ed;\n",
    "            /// Suma cada vez que se crea un Estudiante\n",
    "            NEstudiantes++;\n",
    "        }\n",
    "      \n",
    "        void Print() {\n",
    "            cout<< \"# Estudiantes: \" << NEstudiantes <<endl;\n",
    "            cout<< \"Estudiante   : \" << Nombre <<endl;\n",
    "            cout<< \"Edad         : \" << Edad <<endl;\n",
    "        }\n",
    "      \n",
    "    private:\n",
    "        string Nombre;     \n",
    "        int Edad;     \n",
    "};\n",
    "//Inicializando el miembro statico Utilizando el operador de resolución de alcance '::'\n",
    "int Estudiante::NEstudiantes = 0;\n",
    "\n",
    "int main(void) {\n",
    "    //Creo un estudiante y veo \n",
    "    Estudiante Estudiante1(\"Camilo\", 35);\n",
    "    Estudiante1.Print();\n",
    "    Estudiante Estudiante2(\"Natalia\", 22);\n",
    "    Estudiante2.Print();\n",
    "    Estudiante Estudiante3(\"Adriana\", 19);\n",
    "    Estudiante3.Print(); \n",
    "}"
   ]
  },
  {
   "cell_type": "markdown",
   "metadata": {},
   "source": [
    "### Métodos Estáticos\n",
    "Al declarar una función como estática, la hace independiente de cualquier objeto particular de la clase. Se puede llamar a una función estática incluso si no existen objetos de la clase y se accede a las funciones estáticas usando solo el nombre de la clase y el operador de resolución de alcance `::`.\n",
    "\n",
    "Una función de miembro estático solo puede acceder a miembros de datos estáticos, otras funciones de miembro estático y cualquier otra función desde fuera de la clase.\n",
    "\n",
    "Las funciones miembro estáticas tienen un ámbito de clase y no tienen acceso al puntero `this` de la clase.\n",
    "__Ejemplo:__"
   ]
  },
  {
   "cell_type": "code",
   "execution_count": 13,
   "metadata": {},
   "outputs": [],
   "source": [
    "#include <iostream>\n",
    "using namespace std;\n",
    "    \n",
    "class Estudiante {\n",
    "    public:\n",
    "        static void MayorDeEdad( int Edad_ ){\n",
    "            if (Edad_ < 18){\n",
    "                cout << \"Menor de edad\" << endl;\n",
    "                }\n",
    "            else{\n",
    "                cout << \"Mayor de edad\" << endl;\n",
    "                }\n",
    "        }\n",
    "      \n",
    "        /// Constructor\n",
    "        Estudiante(string Nom, int Ed) {\n",
    "            cout <<\"Objeto Estudiante creado\" << endl;\n",
    "            Nombre = Nom;\n",
    "            Edad = Ed;\n",
    "        }\n",
    "      \n",
    "        void Print() {\n",
    "            cout<< \"Estudiante   : \" << Nombre <<endl;\n",
    "            cout<< \"Edad         : \" << Edad <<endl;\n",
    "            //Usando la función estática dentro del objeto\n",
    "            MayorDeEdad(Edad);\n",
    "        }\n",
    "      \n",
    "    private:\n",
    "        string Nombre;     \n",
    "        int Edad;     \n",
    "};"
   ]
  },
  {
   "cell_type": "code",
   "execution_count": 14,
   "metadata": {},
   "outputs": [
    {
     "name": "stdout",
     "output_type": "stream",
     "text": [
      "Mayor de edad\n",
      "Objeto Estudiante creado\n",
      "Estudiante   : Camilo\n",
      "Edad         : 35\n",
      "Mayor de edad\n",
      "Objeto Estudiante creado\n",
      "Estudiante   : Natalia\n",
      "Edad         : 22\n",
      "Mayor de edad\n",
      "Objeto Estudiante creado\n",
      "Estudiante   : Adriana\n",
      "Edad         : 19\n",
      "Mayor de edad\n",
      "Menor de edad\n"
     ]
    }
   ],
   "source": [
    "//Se puede usar fuera del objeto\n",
    "Estudiante::MayorDeEdad(19);\n",
    "    \n",
    "//Creo un estudiante y veo \n",
    "Estudiante Estudiante1(\"Camilo\", 35);\n",
    "Estudiante1.Print();\n",
    "Estudiante Estudiante2(\"Natalia\", 22);\n",
    "Estudiante2.Print();\n",
    "Estudiante Estudiante3(\"Adriana\", 19);\n",
    "Estudiante3.Print();\n",
    "    \n",
    "//Se puede usar fuera del objeto\n",
    "Estudiante::MayorDeEdad(10);"
   ]
  },
  {
   "cell_type": "markdown",
   "metadata": {},
   "source": [
    "## Herencia\n",
    "\n",
    "Uno de los conceptos más importantes de la programación orientada a objetos es el de herencia. La herencia nos permite definir una clase en términos de otra clase, lo que facilita la creación y el mantenimiento de una aplicación. Esto también brinda la oportunidad de reutilizar la funcionalidad del código y un tiempo de implementación rápido.\n",
    "\n",
    "Al crear una clase, en lugar de escribir miembros de datos y funciones de miembros completamente nuevos, el programador puede designar que la nueva clase herede los miembros de una clase existente. Esta clase existente se denomina _clase base_ y la nueva clase se denomina _clase derivada_.\n",
    "\n",
    "### Clases Derivadas\n",
    "\n",
    "Una clase puede derivarse de más de una clase, lo que significa que puede heredar datos y funciones de varias clases base. Para definir una clase derivada, usamos una lista de derivación de clases para especificar la(s) clase (s) base. Una lista de derivación de clases nombra una o más clases base y tiene la forma:\n",
    "\n",
    "__Sintaxis:__\n",
    "\n",
    "    class derived-class: access-specifier base-class\n",
    "\n",
    "__Ejemplo:__ Creamos una clase llamada `Rectangulo` y otra `Cuadrado` que hereda de  `Rectangulo`. Tamién se usa para mostrar "
   ]
  },
  {
   "cell_type": "code",
   "execution_count": 15,
   "metadata": {},
   "outputs": [],
   "source": [
    "#include <iostream>\n",
    "using namespace std;\n",
    "\n",
    "// Clase Base\n",
    "\n",
    "/**\n",
    "*Clase Rectangulo\n",
    "*/\n",
    "class Rectangulo {\n",
    "    public:\n",
    "        ///Constructor Rectangulo\n",
    "        Rectangulo(int ancho, int alto){\n",
    "            cout <<\"Objeto Rectangulo creado\" << endl;\n",
    "            SetAncho(ancho);\n",
    "            SetAltura(alto);\n",
    "            Nombre = \"Rectangulo\";\n",
    "        }\n",
    "        \n",
    "        ///Método SetAncho\n",
    "        void SetAncho(int a) {\n",
    "            Ancho = a;\n",
    "        }\n",
    "    \n",
    "        ///Método SetAncho\n",
    "        void SetAltura(int h) {\n",
    "            Altura = h;\n",
    "        }\n",
    "        /// Método Print\n",
    "        void Print( void ){\n",
    "            cout <<\"Atributo privado de Rectangulo\"<< Nombre << endl;\n",
    "        }\n",
    "        \n",
    "      \n",
    "    protected:\n",
    "        int Ancho;\n",
    "        int Altura;\n",
    "    \n",
    "    private:\n",
    "        string Nombre;\n",
    "};\n",
    "\n",
    "// Clase Derivada\n",
    "\n",
    "/**\n",
    "*Clase Cuadrado2\n",
    "*/\n",
    "class Cuadrado2: public Rectangulo {\n",
    "    public:\n",
    "        /**\n",
    "        *Constructor de la Clase Rectangulo\n",
    "        * Se le pasa argumentos al constructor base por medio \n",
    "        * del constructor de la clase derivada\n",
    "        */\n",
    "        Cuadrado2(int Lado):Rectangulo(Lado, Lado){\n",
    "            cout <<\"Objeto Cuadrado creado\" << endl;\n",
    "        }\n",
    "    \n",
    "        /*Función para calcular el área del Cuadrado \n",
    "        usando los atributos de la clase base (Rectangulo)*/\n",
    "        int GetArea() { \n",
    "            return (Ancho * Altura); \n",
    "        }\n",
    "        \n",
    "        //Para ilustrar private \n",
    "        ///método Print\n",
    "        /*void Print2( void ){\n",
    "            cout <<\"Atributo privado de Rectangulo\"<< Nombre << endl;\n",
    "        }*/\n",
    "    \n",
    "};"
   ]
  },
  {
   "cell_type": "code",
   "execution_count": 16,
   "metadata": {},
   "outputs": [
    {
     "name": "stdout",
     "output_type": "stream",
     "text": [
      "Objeto Rectangulo creado\n",
      "Objeto Cuadrado creado\n",
      "Area del Cuadrado: 100\n",
      "Area del Rectángulo: 50\n"
     ]
    }
   ],
   "source": [
    "//Creo una objeto de clase cuadrado, con u lado de 10\n",
    "//Note que al crear \n",
    "Cuadrado2 cua1(10);\n",
    "//utilizo el método de Cuadrado\n",
    "cout<<\"Area del Cuadrado: \"<<cua1.GetArea()<<endl;\n",
    "//Cambio el ancho usando un método \n",
    "cua1.SetAncho(5);\n",
    "cout<<\"Area del Rectángulo: \"<<cua1.GetArea()<<endl;"
   ]
  },
  {
   "cell_type": "markdown",
   "metadata": {},
   "source": [
    "## Sobrecarga de Funciones y Operadores (Polimorfismo)\n",
    "\n",
    "C ++ le permite especificar más de una definición para un nombre de función o un operador en el mismo ámbito, lo que se denomina sobrecarga de función y sobrecarga de operador, respectivamente.\n",
    "\n",
    "Una declaración sobrecargada es una declaración que se declara con el mismo nombre que una declaración declarada previamente en el mismo ámbito, excepto que ambas declaraciones tienen argumentos diferentes y, obviamente, una definición (implementación) diferente.\n",
    "\n",
    "Cuando llama a una función u operador sobrecargado, el compilador determina la definición más apropiada para usar, comparando los tipos de argumentos que ha usado para llamar a la función u operador con los tipos de parámetros especificados en las definiciones. El proceso de seleccionar la función u operador sobrecargado más apropiado se denomina resolución de sobrecarga.\n",
    "\n",
    "### Sobrecarga de funciones en C ++\n",
    "Puede tener varias definiciones para el mismo nombre de función en el mismo ámbito. La definición de la función debe diferir entre sí por los tipos y / o el número de argumentos en la lista de argumentos. No puede sobrecargar declaraciones de funciones que difieran solo por el tipo de retorno.\n",
    "\n",
    "__Ejemplo:__"
   ]
  },
  {
   "cell_type": "code",
   "execution_count": 17,
   "metadata": {},
   "outputs": [],
   "source": [
    "#include <iostream>\n",
    "using namespace std;\n",
    "\n",
    "/**\n",
    "*Muestra los datos en pantalla dependiendo del tipo\n",
    "*/\n",
    "class DatosSegunTipo{\n",
    "    public:\n",
    "        /// Print para enteros\n",
    "        void print(int i) {\n",
    "            cout << \"Entero: \" << i << endl;\n",
    "        }\n",
    "        /// Print para Dobles\n",
    "        void print(double  d) {\n",
    "            cout << \"Double: \" << d << endl;\n",
    "        }\n",
    "        /// Print para chars\n",
    "        void print(string s) {\n",
    "            cout << \"String: \" << s << endl;\n",
    "        }\n",
    "};"
   ]
  },
  {
   "cell_type": "code",
   "execution_count": 18,
   "metadata": {},
   "outputs": [
    {
     "name": "stdout",
     "output_type": "stream",
     "text": [
      "Entero: 10\n",
      "Double: 10.1\n",
      "String: Hola Mundo?\n",
      "Entero: 66\n"
     ]
    }
   ],
   "source": [
    "// Creo un objeto DatosSegunTipo\n",
    "DatosSegunTipo ObjetoDST;\n",
    "// Muestro un entero\n",
    "ObjetoDST.print(10);\n",
    "//Muestro un Double\n",
    "ObjetoDST.print(10.1);\n",
    "//Muestro String\n",
    "ObjetoDST.print(\"Hola Mundo?\");\n",
    "//Muestro chart\n",
    "char c = 'B';\n",
    "ObjetoDST.print(c);"
   ]
  },
  {
   "cell_type": "markdown",
   "metadata": {},
   "source": [
    "### Sobrecarga de operadores en C ++ \n",
    "\n",
    "Puede redefinir o sobrecargar la mayoría de los operadores integrados disponibles en C ++. Por lo tanto, un programador también puede usar operadores con tipos definidos por el usuario.\n",
    "\n",
    "Los operadores sobrecargados son funciones con nombres especiales: la palabra clave `operator` seguida del símbolo del operador que se está definiendo. Como cualquier otra función, un operador sobrecargado tiene un tipo de retorno y una lista de parámetros.\n",
    "\n",
    "\n",
    "__Ejemplo:__ Creamos la clase PuntoCarteciano."
   ]
  },
  {
   "cell_type": "code",
   "execution_count": 19,
   "metadata": {},
   "outputs": [],
   "source": [
    "#include <iostream>\n",
    "using namespace std;\n",
    "\n",
    "/**\n",
    "*\n",
    "*/\n",
    "class PuntoCarteciano{\n",
    "    \n",
    "    public:\n",
    "        ///Constructor por defecto de PuntoCarteciano\n",
    "        PuntoCarteciano(void){\n",
    "            x = 0;\n",
    "            y = 0;\n",
    "        }\n",
    "        \n",
    "        ///Constructor por defecto de PuntoCarteciano\n",
    "        PuntoCarteciano( double x_, double y_){\n",
    "            x = x_;\n",
    "            y = y_;\n",
    "        }\n",
    "    \n",
    "        ///Método Setx\n",
    "        void Setx(double x_){\n",
    "            x = x_;\n",
    "        }\n",
    "    \n",
    "        ///Método Sety\n",
    "        void Sety(double y_){\n",
    "            y = y_;\n",
    "        }\n",
    "        \n",
    "        ///Método Set\n",
    "        void Set(double x_, double y_){\n",
    "            x = x_;\n",
    "            y = y_;\n",
    "        }\n",
    "    \n",
    "        ///Método Getx\n",
    "        double Getx(void){\n",
    "            return x;\n",
    "        }  \n",
    "        \n",
    "        ///Método Gety\n",
    "        double Gety(void){\n",
    "            return y;\n",
    "        }  \n",
    "        \n",
    "        /*Sobrecarga de Operadores*/\n",
    "    \n",
    "        ///Operador Suma +\n",
    "        /*\n",
    "        El operador suma opera sobre objetos de la clase PuntoCarteciano\n",
    "        luego el argumento es otro objeto PuntoCarteciano\n",
    "        */\n",
    "        PuntoCarteciano operator+(PuntoCarteciano& PC){\n",
    "            //Creo un PC para entregar el resultado \n",
    "            PuntoCarteciano Resultado; \n",
    "            \n",
    "            //Utilizo el método Set para asignar el resultado de la suma\n",
    "            Resultado.Set(this->Getx() + PC.Getx(), this->Gety() + PC.Gety());\n",
    "            \n",
    "            //Devuelvo el resultado\n",
    "            return Resultado;\n",
    "        } \n",
    "    \n",
    "    private:\n",
    "        double x;\n",
    "        double y;\n",
    "    \n",
    "}"
   ]
  },
  {
   "cell_type": "code",
   "execution_count": 20,
   "metadata": {},
   "outputs": [
    {
     "name": "stdout",
     "output_type": "stream",
     "text": [
      "PC1 + PC2 = (14, 12.3)\n"
     ]
    }
   ],
   "source": [
    "//Creamos tres objetos PuntoCarteciano\n",
    "PuntoCarteciano PC1, PC2, PC3;\n",
    "// Les asignamos los valores inciales a los dos primeros\n",
    "PC1.Set(10, 12.3);\n",
    "PC2.Setx(4);\n",
    "//Asignamos a PC3 el resultado de la suma de  PC1 y PC2 \n",
    "PC3 = PC1+PC2;\n",
    "//Mostramos el resultado\n",
    "cout<< \"PC1 + PC2 = (\"<<  PC3.Getx() << \", \" << PC3.Gety() << \")\" <<endl;"
   ]
  },
  {
   "cell_type": "markdown",
   "metadata": {},
   "source": [
    "### Lista de los operadores que se pueden sobrecargar\n",
    "\n",
    "|  +  |  -  |  *  |    /   |    %   |     ^     |\n",
    "|:---:|:---:|:---:|:------:|:------:|:---------:|\n",
    "|  &  |  \\| |  ~  |    !   |    ,   |     =     |\n",
    "|  <  |  >  |  <= |   >=   |   ++   |     --    |\n",
    "|  << |  >> |  == |   !=   |   &&   |    \\|\\|   |\n",
    "|  += |  -= |  /= |   %=   |   ^=   |     &=    |\n",
    "| \\|= |  *= | <<= |   >>=  |   []   |     ()    |\n",
    "|  -> | ->* | new | new [] | delete | delete [] |\n",
    "\n",
    "## Ejercicio:\n",
    "Cree código ejecutable para cada uno de los ejemplos."
   ]
  },
  {
   "cell_type": "code",
   "execution_count": null,
   "metadata": {},
   "outputs": [],
   "source": []
  }
 ],
 "metadata": {
  "kernelspec": {
   "display_name": "ROOT C++",
   "language": "c++",
   "name": "root"
  },
  "language_info": {
   "codemirror_mode": "text/x-c++src",
   "file_extension": ".C",
   "mimetype": " text/x-c++src",
   "name": "c++"
  }
 },
 "nbformat": 4,
 "nbformat_minor": 4
}
