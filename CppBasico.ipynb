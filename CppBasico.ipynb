{
 "cells": [
  {
   "cell_type": "markdown",
   "metadata": {},
   "source": [
    "# C++ Básico\n",
    "\n",
    "C++ es un lenguaje multiplataforma que se puede utilizar para crear aplicaciones de alto rendimiento. El lenguage fue desarrollado por Bjarne Stroustrup, como una extensión del lenguaje C, que brinda a los programadores un nivel de control alto sobre los recursos del sistema y la memoria, por lo que es uno de los lenguajes más utilizados y poderosos que existe.\n",
    "\n",
    "La mayoria de los sistemas operativos usan C++, tambiíen las interfaces gráficas de usuario y sistemas embebidos. Es un lenguaje de programación orientado a objetos que proporciona una estructura clara a los programas y permite reutilizar el código, lo que reduce los tiempos y costos del desarrollo. Es portátil y se puede utilizar para desarrollar aplicaciones que se pueden adaptar a múltiples plataformas. \n",
    "\n",
    "C++ es muy similar a C# y Java, facilita a los programadores cambiar a C++ o viceversa.\n",
    "\n",
    "## Estructura del Código en C++.\n",
    "\n",
    "Los archivos que se van a crear, van a tener la exención C, .cc, .cpp, .CPP, .c++, .cp, o .cxx, y tendrán la siguiente estructura básica:\n",
    "\n",
    "    #include <iostream>\n",
    "    using namespace std;\n",
    "    // Esto es una tradición\n",
    "    int main(){\n",
    "        cout << \"Hello World\\n\"; // Muestra en pantalla 'Hello Word' \n",
    "        return 0;\n",
    "     }\n",
    " \n",
    "    /* The general form is:\n",
    "    * int main (int argc, char *argv[] , other_parameters ) { body }\n",
    "    * argc -    Non-negative value representing the number of arguments passed \n",
    "    *           to the program from the environment in which the program is run.\n",
    "    * argv -    Pointer to the first element of an array of pointers to \n",
    "    *           null-terminated multibyte strings that represent the arguments\n",
    "    *           passed to the program from the execution environment (argv[0] \n",
    "    *           through argv[argc-1]). The value of argv[argc] is guaranteed to be 0.\n",
    "    * body -    The body of the main function  \n",
    "    *   \n",
    "    */\n",
    "\n",
    "Copie el texto anterior en un archivo y llamelo _helloword.cpp_\n",
    "\n",
    "__Nota:__ copie el texto sin los caracteres especiales de formato >, ```.\n",
    "\n",
    "#### Temas sugeridos\n",
    "- Identificadores (nombres de variables).\n",
    "- Tipos de variables.\n",
    "- Palabras reservadas en C++.\n",
    "- Uso del \";\"."
   ]
  },
  {
   "cell_type": "markdown",
   "metadata": {},
   "source": [
    "## Compilado básico.\n",
    "\n",
    "Primero se chequea que se tenga un compilador gcc. En una consola de bash se escribe siguientes comandos\n",
    "\n",
    "    g++ -v\n",
    "\n",
    "y debe de resultar alo así:\n",
    "\n",
    "\n",
    "    Using built-in specs.\n",
    "    COLLECT_GCC=g++\n",
    "    COLLECT_LTO_WRAPPER=/usr/lib/gcc/x86_64-linux-gnu/10/lto-wrapper\n",
    "    OFFLOAD_TARGET_NAMES=nvptx-none:amdgcn-amdhsa:hsa\n",
    "    OFFLOAD_TARGET_DEFAULT=1\n",
    "    Target: x86_64-linux-gnu\n",
    "    Configured with: ../src/configure -v --with-pkgversion='Debian 10.2.0-9' --with-bugurl=file:///usr/share/doc/gcc-10/README.Bugs --enable-languages=c,ada,c++,go,brig,d,fortran,objc,obj-c++,m2 --prefix=/usr --with-gcc-major-version-only --program-suffix=-10 --program-prefix=x86_64-linux-gnu- --enable-shared --enable-linker-build-id --libexecdir=/usr/lib --without-included-gettext --enable-threads=posix --libdir=/usr/lib --enable-nls --enable-clocale=gnu --enable-libstdcxx-debug --enable-libstdcxx-time=yes --with-default-libstdcxx-abi=new --enable-gnu-unique-object --disable-vtable-verify --enable-plugin --enable-default-pie --with-system-zlib --enable-libphobos-checking=release --with-target-system-zlib=auto --enable-objc-gc=auto --enable-multiarch --disable-werror --with-arch-32=i686 --with-abi=m64 --with-multilib-list=m32,m64,mx32 --enable-multilib --with-tune=generic --enable-offload-targets=nvptx-none=/build/gcc-10-8ZcOTJ/gcc-10-10.2.0/debian/tmp-nvptx/usr,amdgcn-amdhsa=/build/gcc-10-8ZcOTJ/gcc-10-10.2.0/debian/tmp-gcn/usr,hsa --without-cuda-driver --enable-checking=release --build=x86_64-linux-gnu --host=x86_64-linux-gnu --target=x86_64-linux-gnu\n",
    "    Thread model: posix\n",
    "    Supported LTO compression algorithms: zlib zstd\n",
    "    gcc version 10.2.0 (Debian 10.2.0-9) \n",
    "\n",
    "de otro modo debe de instalarlos\n",
    "\n",
    "    apt-get install build-essential\n",
    "\n",
    "Ahora compile el código que guardo en el archivo _helloword.cpp_. En una consola hubicado en la carpeta donde gurdó el .cpp haga lo siguiente\n",
    "\n",
    "    g++ helloworld.cpp -o helloworld.out\n",
    "\n",
    "Lo que hace ese comando es usar el compilador (que es g++) con la opción `-o` que es para espesificar el nombre del archivo de salida `.out` (ejecutable). El ejecutable se puede usar por medio de la consola así:\n",
    "\n",
    "\n",
    "    ./helloworld.out\n",
    "\n",
    "Intentelo. Por el momento esto es todo lo que se va a necesitar del compilador, mas adelante se volveremos sobre este asunto.\n",
    "\n",
    "__Ejemplo:__ Como estamos en un notebook de ROOT, podemos interpretar el código directamente, pero se debe de modificar ligeramente la estructura"
   ]
  },
  {
   "cell_type": "code",
   "execution_count": 1,
   "metadata": {},
   "outputs": [],
   "source": [
    "/*Primero llamo las librerias que necesite con la palaba reservada include*/\n",
    "#include <iostream>\n",
    "/*Defino el espacio de nombres*/\n",
    "using namespace std;"
   ]
  },
  {
   "cell_type": "code",
   "execution_count": 2,
   "metadata": {
    "tags": []
   },
   "outputs": [
    {
     "name": "stdout",
     "output_type": "stream",
     "text": [
      "Hello World\n"
     ]
    }
   ],
   "source": [
    "/*No hay nesecidad de definir una función principal*/\n",
    "cout << \"Hello World\\n\"; // Print 'Hello Word' "
   ]
  },
  {
   "cell_type": "markdown",
   "metadata": {},
   "source": [
    "## Operadores.\n",
    "\n",
    "Un operador le dice al compilador que realice una manipulación determinada. En C++ se puede dividir en seis grupos.\n",
    "\n",
    "## Operadores Aritméticos.\n",
    "\n",
    "Como su nombre lo indica realizan operaciones aritméticas básicas sobre las variables numéricas. \n",
    "- Suma `+`\n",
    "- Resta `-`\n",
    "- Multiplicación `*`\n",
    "- División `/`\n",
    "- Modulo `%`\n",
    "- Incremento `++`\n",
    "- Decremento `--`\n",
    "\n",
    "__Ejemplo:__ Tenemos las variables enteras `a`, `b` y `c`."
   ]
  },
  {
   "cell_type": "code",
   "execution_count": 3,
   "metadata": {
    "tags": []
   },
   "outputs": [
    {
     "name": "stdout",
     "output_type": "stream",
     "text": [
      "a=21\n",
      "b=10\n",
      "a+b=31\n",
      "a-b=11\n",
      "a*b=210\n",
      "a/b=2\n",
      "a%b=1\n",
      "a++=21\n",
      "a--=22\n"
     ]
    }
   ],
   "source": [
    "int a = 21; \n",
    "int b = 10;\n",
    "int c ;\n",
    "\n",
    "cout << \"a=\" << a << endl ;\n",
    "cout << \"b=\" << b << endl ;\n",
    "c = a + b;\n",
    "cout << \"a+b=\" << c << endl ;\n",
    "c = a - b;\n",
    "cout << \"a-b=\" << c << endl ;\n",
    "c = a * b;\n",
    "cout << \"a*b=\" << c << endl ;\n",
    "c = a / b;\n",
    "cout << \"a/b=\" << c << endl ;\n",
    "c = a % b;\n",
    "cout << \"a%b=\" << c << endl ;\n",
    "c = a++; \n",
    "cout << \"a++=\" << c << endl ;\n",
    "c = a--; \n",
    "cout << \"a--=\" << c << endl ;"
   ]
  },
  {
   "cell_type": "markdown",
   "metadata": {},
   "source": [
    "__Ejercicio:__ Cree un programa de C++ que haga lo mostrado anteriormente y compilelo.\n",
    "\n",
    "### Operadores Relacionales.\n",
    "Estos operadores realizan comparaciones entre las variables y resultan en valores lógicos (TRUE o FALSE).\n",
    "\n",
    "- Igual que `==`\n",
    "- Diferente que `!=`\n",
    "- Mayor que `>`\n",
    "- Menor que `<`\n",
    "- Mayor o igual que `>=`\n",
    "- Menor o igual que `<=`\n",
    "\n",
    "__Ejemplo:__ Si copie en un archivo con nombre OpRelacionales.cpp y compile. \n",
    "\n",
    "\n",
    "    #include <iostream>\n",
    "    #include <stdio.h>\n",
    "    #include <stdlib.h>\n",
    "    using namespace std;\n",
    "    int main(int argc, char *argv[])\n",
    "    {\n",
    "      bool c;\n",
    "      cout << \"el valor 0 equivale a FALSE, y 1 a TRUE\" << endl ;\n",
    "      if(argc != 3)\n",
    "        {\n",
    "          fprintf(stdout,\"Ingreso %d argumentos, el número de argumentos es 2\\n\",argc);\n",
    "          return 1;\n",
    "         }//endif\n",
    "      int a = atoi(argv[1]);\n",
    "      int b = atoi(argv[2]);\n",
    "      cout << \"a=\" << a << endl;\n",
    "      cout << \"b=\" << b << endl;\n",
    "      c = (a == b);\n",
    "      cout << \"a == b es:\" << c << endl ;\n",
    "      c= ( a < b );\n",
    "      cout << \"a < b es:\"<< c << endl ;\n",
    "      c= ( a > b );\n",
    "      cout << \"a > b es:\"<< c << endl ;\n",
    "      c= ( a <= b );\n",
    "      cout << \"a <= b es:\"<< c << endl ;\n",
    "      c= ( b >= a );\n",
    "      cout << \"b >= a es:\"<< c << endl ;\n",
    "      return 0;\n",
    "    }\n",
    "\n",
    "\n",
    "Cuando se ejecuta recibe dos enteros y los usa para ilustrar el uso de los operadores relacionales.\n",
    "\n",
    "    ./OpRelacionales.out 1 2\n",
    "\n",
    "\n",
    "Salida:\n",
    "\n",
    "    el valor 0 equivale a FALSE, y 1 a TRUE\n",
    "    a=1\n",
    "    b=2\n",
    "    a == b es:0\n",
    "    a < b es:1\n",
    "    a > b es:0\n",
    "    a <= b es:1\n",
    "    b >= a es:1\n",
    "    \n",
    "\n",
    "__Ejercicio:__ Haga esto mismo definiendo una función de C++ en el notebook.\n",
    "\n",
    "## Operadores Lógicos\n",
    "Estos operadores actúan sobre las variables lógicas, y tienen como resultado valores lógicos\n",
    "- Disyunción `&&`\n",
    "- Conjunción `||`\n",
    "- Negación `!`\n",
    "\n",
    "Ejemplo:"
   ]
  },
  {
   "cell_type": "code",
   "execution_count": 4,
   "metadata": {},
   "outputs": [],
   "source": [
    "#include <iostream>\n",
    "#include <stdio.h>\n",
    "/*Si no quiero usar el namespace, entonces debo de ponerlo antes de las funciones con ::*/\n",
    "//using namespace std;"
   ]
  },
  {
   "cell_type": "code",
   "execution_count": 5,
   "metadata": {},
   "outputs": [],
   "source": [
    "int OPLog(bool a, bool b)\n",
    "{\n",
    "  std::cout << \"a=\" << a<< std::endl;\n",
    "  std::cout << \"b=\" << b<< std::endl;\n",
    "\n",
    "  if ( a && b )\n",
    "    {\n",
    "      std::cout << \"a && b es TRUE\" << std::endl; \n",
    "    }else\n",
    "    {\n",
    "      std::cout << \"a && b es FALSE\" << std::endl;\n",
    "    }\n",
    "   if ( a || b )\n",
    "    {\n",
    "      std::cout << \"a || b es TRUE\" << std::endl; \n",
    "    }else\n",
    "    {\n",
    "      std::cout << \"a || b es FALSE\" << std::endl;\n",
    "    }\n",
    "  if ( !(a && b) )\n",
    "    {\n",
    "      std::cout << \"!(a && b) es TRUE\" << std::endl; \n",
    "    }else\n",
    "    {\n",
    "      std::cout << \"!(a && b) es FALSE\" << std::endl;\n",
    "    }\n",
    "  if ( !(a || b) )\n",
    "    {\n",
    "      std::cout << \"!(a || b) es TRUE\" << std::endl; \n",
    "    }else\n",
    "    {\n",
    "      cout << \"!(a || b) es FALSE\" << std::endl;\n",
    "    }\n",
    "  return 0;\n",
    "}"
   ]
  },
  {
   "cell_type": "code",
   "execution_count": 6,
   "metadata": {
    "tags": []
   },
   "outputs": [
    {
     "name": "stdout",
     "output_type": "stream",
     "text": [
      "a=0\n",
      "b=1\n",
      "a && b es FALSE\n",
      "a || b es TRUE\n",
      "!(a && b) es TRUE\n",
      "!(a || b) es FALSE\n",
      "(int) 0\n"
     ]
    }
   ],
   "source": [
    "/*Ejecuto la función*/\n",
    "OPLog(0,2)"
   ]
  },
  {
   "cell_type": "markdown",
   "metadata": {
    "tags": []
   },
   "source": [
    "__Ejercicio:__ Haga lo anterior, definiendo una función de C++ dentro de un archivo .cpp, compilelo y ejecutelo.\n",
    "\n",
    "## Operadores de Asignación\n",
    "Estos operadores asignan los valores de las variables\n",
    "\n",
    "- Asignación `=`\n",
    "- Operación y Asignación `OP=`\n",
    "\n",
    "Ejemplo:"
   ]
  },
  {
   "cell_type": "code",
   "execution_count": 7,
   "metadata": {},
   "outputs": [],
   "source": [
    "#include <iostream>     /*cin,cout*/\n",
    "using namespace std;"
   ]
  },
  {
   "cell_type": "code",
   "execution_count": 8,
   "metadata": {
    "tags": []
   },
   "outputs": [
    {
     "name": "stdout",
     "output_type": "stream",
     "text": [
      " a= 10\n",
      " b= 5\n",
      " c = a : entonces c= 10\n",
      " c += a: entonces c= 20\n",
      " c -= a: entonces c= 10\n",
      " c *= a: entonces c= 100\n",
      " c /= a: entonces c= 10\n",
      " c = b : entonces c= 5\n",
      " c %= a: entonces c= 5\n",
      " c <<= 2: entonces c= 20\n",
      " c >>= 2: entonces c= 5\n",
      " c &=  2: entonces c= 0\n",
      " c ^=  2: entonces c= 2\n",
      " c |=  2: entonces c= 2\n"
     ]
    }
   ],
   "source": [
    "int a = 10; \n",
    "int b = 5;\n",
    "int c;\n",
    "\n",
    "cout << \" a= \" <<a<< endl ;\n",
    "cout << \" b= \" <<b<< endl ;\n",
    "\n",
    "c = a;\n",
    "cout << \" c = a : entonces c= \" <<c<< endl ;\n",
    "  \n",
    "c += a;\n",
    "cout << \" c += a: entonces c= \" <<c<< endl ;\n",
    "  \n",
    "c -= a;\n",
    "cout << \" c -= a: entonces c= \" <<c<< endl ;\n",
    "  \n",
    "c *= a;\n",
    "cout << \" c *= a: entonces c= \" <<c<< endl ;\n",
    "  \n",
    "c /= a;\n",
    "cout << \" c /= a: entonces c= \" <<c<< endl ;\n",
    "  \n",
    "c = b;\n",
    "cout << \" c = b : entonces c= \" <<c<< endl ;\n",
    "  \n",
    "c %=  a;\n",
    "cout << \" c %= a: entonces c= \" <<c<< endl ;\n",
    "  \n",
    "c <<=  2;\n",
    "cout << \" c <<= 2: entonces c= \" <<c<< endl ;\n",
    "  \n",
    "c >>=  2;\n",
    "cout << \" c >>= 2: entonces c= \" <<c<< endl ;\n",
    "  \n",
    "c &=  2;\n",
    "cout << \" c &=  2: entonces c= \" <<c<< endl ;\n",
    "  \n",
    "c ^=  2;\n",
    "cout << \" c ^=  2: entonces c= \" <<c<< endl ;\n",
    "  \n",
    "c |=  2;\n",
    "cout << \" c |=  2: entonces c= \" <<c<< endl ;"
   ]
  },
  {
   "cell_type": "markdown",
   "metadata": {},
   "source": [
    "__Ejercicio:__ Haga lo anterior definiendo una función de C++ dentro de un archivo .cpp, compilelo y ejecutelo.\n",
    "\n",
    "## Otros Operadores\n",
    "Éstos operadores no pueden ser clasificados en uno de los anteriores grupos\n",
    "- `sizeof`\n",
    "- Condición `? X : Y`\n",
    "- `.`\n",
    "- `->`\n",
    "- `&` a un puntero puntero\n",
    "- `*` a un puntero puntero\n",
    "\n",
    "__Ejemplo1:__"
   ]
  },
  {
   "cell_type": "code",
   "execution_count": 9,
   "metadata": {
    "tags": []
   },
   "outputs": [
    {
     "name": "stdout",
     "output_type": "stream",
     "text": [
      "tamaño de una variable en bytes : \n",
      "\n",
      "tamaño de una variable tipo char :      1\n",
      "tamaño de una variable tipo int :       4\n",
      "tamaño de una variable tipo short int : 2\n",
      "tamaño de una variable tipo long int :  8\n",
      "tamaño de una variable tipo float :     4\n",
      "tamaño de una variable tipo double :    8\n",
      "tamaño de una variable tipo wchar_t :   4\n",
      "\n",
      "\n",
      "tamaño de una variable en bits : \n",
      "\n",
      "tamaño de una variable tipo char :      8\n",
      "tamaño de una variable tipo int :       32\n",
      "tamaño de una variable tipo short int : 16\n",
      "tamaño de una variable tipo long int :  64\n",
      "tamaño de una variable tipo float :     32\n",
      "tamaño de una variable tipo double :    64\n",
      "tamaño de una variable tipo wchar_t :   32\n",
      "\n",
      "\n",
      "Uso operador 'condition? X:Y': \n",
      "\n",
      "(char > long int)? No\n",
      "\n",
      "\n",
      "Uso operador 'cast': \n",
      "\n",
      "b= 2.34234\n",
      "(int)b = 2\n",
      "\n"
     ]
    }
   ],
   "source": [
    "  int ch=sizeof(char)     ; \n",
    "  int in=sizeof(int)      ; \n",
    "  int si=sizeof(short int); \n",
    "  int li=sizeof(long int) ; \n",
    "  int fl=sizeof(float)    ; \n",
    "  int du=sizeof(double)  ; \n",
    "  int wc=sizeof(wchar_t) ; \n",
    "  \n",
    "  cout << \"tamaño de una variable en bytes : \" << endl;\n",
    "  cout << endl;\n",
    "  cout << \"tamaño de una variable tipo char :      \" << ch << endl;\n",
    "  cout << \"tamaño de una variable tipo int :       \" << in << endl;\n",
    "  cout << \"tamaño de una variable tipo short int : \" << si << endl;\n",
    "  cout << \"tamaño de una variable tipo long int :  \" << li << endl;\n",
    "  cout << \"tamaño de una variable tipo float :     \" << fl << endl;\n",
    "  cout << \"tamaño de una variable tipo double :    \" << du << endl;\n",
    "  cout << \"tamaño de una variable tipo wchar_t :   \" << wc << endl;\n",
    "  \n",
    "  int bch=ch*8; \n",
    "  int bin=in*8; \n",
    "  int bsi=si*8; \n",
    "  int bli=li*8; \n",
    "  int bfl=fl*8; \n",
    "  int bdu=du*8; \n",
    "  int bwc=wc*8;\n",
    "  \n",
    "  cout << endl << endl;\n",
    "\n",
    "  cout << \"tamaño de una variable en bits : \" << endl;\n",
    "  cout << endl;\n",
    "  cout << \"tamaño de una variable tipo char :      \" << bch << endl;\n",
    "  cout << \"tamaño de una variable tipo int :       \" << bin << endl;\n",
    "  cout << \"tamaño de una variable tipo short int : \" << bsi << endl;\n",
    "  cout << \"tamaño de una variable tipo long int :  \" << bli << endl;\n",
    "  cout << \"tamaño de una variable tipo float :     \" << bfl << endl;\n",
    "  cout << \"tamaño de una variable tipo double :    \" << bdu << endl;\n",
    "  cout << \"tamaño de una variable tipo wchar_t :   \" << bwc << endl;\n",
    "\n",
    "  cout << endl << endl;\n",
    "  \n",
    "  string flag; //esto es nuevo!! y depende de la librería string\n",
    "  cout << \"Uso operador 'condition? X:Y': \" << endl << endl;\n",
    "  flag= (ch > li) ? \"Yes\":\"No\" ; \n",
    "  cout << \"(char > long int)? \" << flag <<endl<< endl<< endl;\n",
    "\n",
    "  int c;\n",
    "  float b=2.342345;\n",
    "  cout << \"Uso operador 'cast': \" << endl<< endl;\n",
    "  cout << \"b= \"<< b << endl;\n",
    "  \n",
    "  c = (int) b;\n",
    "  cout << \"(int)b = \" << c << endl<< endl ;"
   ]
  },
  {
   "cell_type": "markdown",
   "metadata": {},
   "source": [
    "## Tipos de Datos básicos\n",
    "| Tipo      | Tamaño  | Descripción                                                                                          |\n",
    "|-----------|---------|------------------------------------------------------------------------------------------------------|\n",
    "| int       | 4 bytes | Guarda números sin decimales                                                                         |\n",
    "| float     | 4 bytes | Guarda números que contienen hasta 7 dígitos decimales                                               |\n",
    "| double    | 8 bytes | Guarda números que contienen hasta 15 díjitos decimales                                              |\n",
    "| boolean   | 1 byte  | Verdadero y falso (1,0)                                                                              |\n",
    "| char      | 1 byte  | Caracter, número, letra, símbolo o ASCII                                                             |"
   ]
  },
  {
   "cell_type": "markdown",
   "metadata": {},
   "source": [
    "## Funciones.\n",
    "Ya hemos tratado varias vesces con funciones. \n",
    "\n",
    "    Tipo Nombre( lista de parámetros )\n",
    "    {\n",
    "    Cuerpo de la función\n",
    "    }\n",
    "\n",
    "donde:\n",
    "__`Tipo`      :__ Cual es el tipo de dato que devuelve la función i.e. char, int, double, etc.\n",
    "__`Nombre`    :__ Nombre con el cual se va a llamar la función.\n",
    "__`Parámetros`:__ Entradas de la function de la forma Tipo Nombre\n",
    "__`Cuerpo`    :__ Lo que hace propiamente la función.\n",
    "\n",
    "__Ejemplo:__"
   ]
  },
  {
   "cell_type": "code",
   "execution_count": 10,
   "metadata": {},
   "outputs": [
    {
     "name": "stdout",
     "output_type": "stream",
     "text": [
      "Resultado de 100X2 = 200\n"
     ]
    }
   ],
   "source": [
    "float Multiplicacion(float a, float b){\n",
    "    /**\n",
    "    * Función que toma dos números con punto flotante, los multiplica y entrega el resultado\n",
    "    **/\n",
    "    return a*b; ///Multiplico y devuelvo el resultado\n",
    "}\n",
    "//Usando la función\n",
    "cout << \"Resultado de 100X2 = \"<< Multiplicacion(100,2) << endl;"
   ]
  },
  {
   "cell_type": "markdown",
   "metadata": {},
   "source": [
    "## Decisiones.​\n",
    "Ya se ha usado anteriormente en algunos ejemplos. La sintaxis de los diferentes tipos de decisions:\n",
    "\n",
    "### if\n",
    "\n",
    "\n",
    "    if(expresión lógica)\n",
    "    {\n",
    "       // Instrucciones que se ejecutan para el caso en que expresión lógica = TRUE\n",
    "    }\n",
    "\n",
    "### if...else\n",
    "\n",
    "\n",
    "    if(expresión lógica)\n",
    "    {\n",
    "       // Instrucciones que se ejecutan para el caso en que expresión lógica = TRUE\n",
    "    }\n",
    "    else\n",
    "    {\n",
    "    // Instrucciones que se ejecutan para el caso en que expresión lógica = FALSE\n",
    "    }\n",
    "\n",
    "### switch\n",
    "Este ya no se usa mucho, pues puede ser reemplazado por varios if, else.\n",
    "\n",
    "\n",
    "    switch(expresión){\n",
    "        case valor-1 :\n",
    "           Comandos;\n",
    "           break; //Opcional\n",
    "        case valor-2  :\n",
    "           Comandos;\n",
    "           break; //Opcional\n",
    "           .\n",
    "           .\n",
    "           .\n",
    "        case valor-n  :\n",
    "           Comandos;\n",
    "           break; //Opcional\n",
    "  \n",
    "        // Se pueden tener los casos que se quieran.\n",
    "        default : //Opcional\n",
    "           Comandos;\n",
    "    }\n",
    "\n",
    "\n",
    "__Ejercicio:__ Utilice las comparaciones y los operadores lógicos para crear una función que diga si dos enteros son iguales o no.\n",
    "\n",
    "## Loops.\n",
    "​\n",
    "Los loops o bucles, se utilizan cuando es necesario ejecutar cierta parte (o partes) del código un número determinado (o indeterminado) de veces. A continuación se listan varios tipos de bucles en C++\n",
    "\n",
    "### while loop\n",
    "Ejecuta un grupo de sentencias mientras la condición sea verdadera, dicha condición se evalúa antes de comenzar el loop. La estructura es\n",
    "\n",
    "__Sintaxis:__\n",
    "\n",
    "    while(condition)\n",
    "    {\n",
    "       statement(s);\n",
    "    }\n",
    "\n",
    "donde condition es una expresión que se interpreta como verdadero (cualquier valor diferente de cero) y falso (cero).\n",
    "\n",
    "Ejemplo:"
   ]
  },
  {
   "cell_type": "code",
   "execution_count": 11,
   "metadata": {},
   "outputs": [],
   "source": [
    "#include <iostream>\n",
    "using std::cout;\n",
    "using std::endl;"
   ]
  },
  {
   "cell_type": "code",
   "execution_count": 12,
   "metadata": {
    "tags": []
   },
   "outputs": [
    {
     "name": "stdout",
     "output_type": "stream",
     "text": [
      "i= 20\n",
      "i= 19\n",
      "i= 18\n",
      "i= 17\n",
      "i= 16\n",
      "i= 15\n",
      "i= 14\n",
      "i= 13\n",
      "i= 12\n",
      "i= 11\n",
      "i= 10\n",
      "i= 9\n",
      "i= 8\n",
      "i= 7\n",
      "i= 6\n",
      "i= 5\n",
      "i= 4\n",
      "i= 3\n",
      "i= 2\n"
     ]
    }
   ],
   "source": [
    "void WhileLoop()\n",
    "{\n",
    "  int i = 20;\n",
    "   // while loop execution\n",
    "   while( i > 1 )\n",
    "   {\n",
    "       cout << \"i= \" << i << endl;\n",
    "       i=i-1;\n",
    "   }\n",
    "}\n",
    "WhileLoop();"
   ]
  },
  {
   "cell_type": "markdown",
   "metadata": {},
   "source": [
    "### for loop\n",
    "Ejecuta una secuencia de sentencias un determinado número de veces.\n",
    "\n",
    "__Sintaxis:__\n",
    "\n",
    "    for ( init; condition; increment )\n",
    "    {\n",
    "        statement(s);\n",
    "    }\n",
    "\n",
    "___Ejemplo:___"
   ]
  },
  {
   "cell_type": "code",
   "execution_count": 13,
   "metadata": {},
   "outputs": [
    {
     "name": "stdout",
     "output_type": "stream",
     "text": [
      "i= 20\n",
      "i= 19\n",
      "i= 18\n",
      "i= 17\n",
      "i= 16\n",
      "i= 15\n",
      "i= 14\n",
      "i= 13\n",
      "i= 12\n",
      "i= 11\n",
      "i= 10\n",
      "i= 9\n",
      "i= 8\n",
      "i= 7\n",
      "i= 6\n",
      "i= 5\n",
      "i= 4\n",
      "i= 3\n",
      "i= 2\n"
     ]
    }
   ],
   "source": [
    "//#include <iostream>\n",
    "\n",
    "void ForLoop()\n",
    "{\n",
    "  for( int i = 20; i > 1; i-- )\n",
    "    {\n",
    "      std::cout << \"i= \" << i << std::endl;\n",
    "    }\n",
    "}\n",
    "/*Ejecuto la función*/\n",
    "ForLoop();"
   ]
  },
  {
   "cell_type": "markdown",
   "metadata": {},
   "source": [
    "### do ... while loop\n",
    "Como su nombre lo indica, realiza una tarea mientras la condición sea verdadera, se debe de tener en cuenta que la condición se evalúa al final de cada iteración.\n",
    "\n",
    "__Sintaxis:__\n",
    "\n",
    "    do {\n",
    "        statement(s);\n",
    "    } while( condition );"
   ]
  },
  {
   "cell_type": "code",
   "execution_count": 14,
   "metadata": {},
   "outputs": [
    {
     "name": "stdout",
     "output_type": "stream",
     "text": [
      " a= 10\n",
      " a= 11\n",
      " a= 12\n",
      " a= 13\n",
      " a= 14\n",
      " a= 15\n",
      " a= 16\n",
      " a= 17\n",
      " a= 18\n",
      " a= 19\n"
     ]
    }
   ],
   "source": [
    "//#include <stdio.h>\n",
    "\n",
    "void DoWhileLoop() {\n",
    "    /*Variable Local*/\n",
    "    int a = 10;\n",
    "    /* do loop*/\n",
    "    do {\n",
    "        //Print tambíen existe en C++\n",
    "        printf(\" a= %d\\n\", a);\n",
    "        a = a + 1;\n",
    "    }while( a < 20 );\n",
    "}\n",
    "//Ejecuto la función\n",
    "DoWhileLoop()"
   ]
  },
  {
   "cell_type": "markdown",
   "metadata": {},
   "source": [
    "### Comandos de Control de loops.\n",
    "Modifican la manera en como se recorre el loop \n",
    "- __`break`:__ Para el loop, sin importar si se alcanzó o no la condición de parada. La ejecución sigue fuera del loop (diferente de return).\n",
    "\n",
    "- __`continue`:__ Hace que el la ejecución salte el resto del contenido del loop, y continua después de chequear la condición del loop.\n",
    "\n",
    "- __`goto`:__ Hace un salto hacia donde este la etiqueta (label)\n",
    "\n",
    "__Sintaxis:__\n",
    "\n",
    "    goto label;\n",
    "    ..\n",
    "    .\n",
    "    label: statement;\n",
    "\n",
    "__Ejemplo y Ejercicio:__ Copie este código en un archivo, comente que hace en las diferentes partes y compilelo."
   ]
  },
  {
   "cell_type": "raw",
   "metadata": {},
   "source": [
    "#include <iostream>     /*cin,cout*/\n",
    "#include <stdlib.h>     /* strtol */\n",
    "\n",
    "using namespace std;\n",
    "\n",
    "int main(int argc, char *argv[])\n",
    "{\n",
    "  if(argc != 2)\n",
    "    {\n",
    "      cout << \"Ingreso\" << argc << \"argumentos, el número de argumentos es un entero\"<< endl;\n",
    "      return 1;\n",
    "    }//endif\n",
    "\n",
    "  int a = atoi(argv[1]); \n",
    "  int i=0;\n",
    "\n",
    "  cout << \"Número elegido:\" << a << endl;\n",
    "\n",
    "\n",
    " COMP:for( ; ; )//esto es un loop infinito //COMP es la etiqueta para el goto\n",
    "    {\n",
    "      i++;\n",
    "      cout << \"Número de loop:\" << i << endl;\n",
    "      cout << \"Número:\" << a << endl;\n",
    "      \n",
    "      if (a>0)\n",
    "    {\n",
    "      cout << \"a=\" << a <<\" ,Número mayor que cero (uso continue)\" << endl;\n",
    "      a=a-1;\n",
    "      continue;   \n",
    "      \n",
    "    }else if (a==0)\n",
    "    {\n",
    "      cout << \"a=\" << a <<\" ,Número igual a cero (uso breake)\" << endl; \n",
    "      break;\n",
    "      \n",
    "    }else if (a<0)\n",
    "    {\n",
    "      cout << \"a=\" << a <<\" ,Numero menor que cero (uso goto)\" << endl;\n",
    "      a++;\n",
    "      goto COMP;  \n",
    "    }else\n",
    "    {\n",
    "      cout << \"Error en el cast\" << endl;\n",
    "      return 1;\n",
    "    } \n",
    "    }\n",
    "  return 0;\n",
    "}"
   ]
  },
  {
   "cell_type": "markdown",
   "metadata": {},
   "source": [
    "## Arreglos.\n",
    "\n",
    "Un arreglo en C++ es una secuencia ordenada de elementos de un tipo, que se organizan consecutivamente en la memoria.\n",
    "### Declarando un arreglo e inicializando \n",
    "Para declarar un arreglo (por el momento estático) en C++\n",
    "\n",
    "    tipo Nombre [ tamaño ];\n",
    "\n",
    "Donde:\n",
    "- __`tipo`:__ tipo de las variables del arreglo.\n",
    "- __`Nombre`:__ Nombre con el que se llama al arreglo\n",
    "- __`tamaño`:__ cual es el número de elementos del arreglo (>0)\n",
    "\n",
    "__Ejemplo:__ Formas de inicializar Arreglos, todas estas formas crean exactamente el mismo tipo de arreglo. En la última forma asigna los elementos de manera individual, es bueno tener en cuenta que los indices de los arreglos en C++ comienzan en cero (0)."
   ]
  },
  {
   "cell_type": "code",
   "execution_count": 15,
   "metadata": {},
   "outputs": [
    {
     "name": "stdout",
     "output_type": "stream",
     "text": [
      "(double [5]) { 200.20000, 26.100000, 30.240000, 20.000000, 0.0000000 }\n"
     ]
    }
   ],
   "source": [
    "//Pasando el tamaño y el contenido\n",
    "double arreglo1[5] = {200.2, 26.1, 30.24, 12.0, 20.0};\n",
    "//Pasando el contenido y dejando que el compilador asigne el tamaño\n",
    "double arreglo2[] = {200.2, 26.1, 30.24, 12.0, 20.0};\n",
    "//Pasando el tamaño \n",
    "double arreglo3[5];\n",
    "//y luego el contenido\n",
    "arreglo3[0] =200.2;\n",
    "arreglo3[1] =26.1;\n",
    "arreglo3[2] =30.24;\n",
    "arreglo3[3] =12.0;\n",
    "arreglo3[3] =20.0;\n",
    "//Ventajas de trabajar en un notebook es que se puede ver el contenido de arreglos sin definir un loop\n",
    "arreglo3"
   ]
  },
  {
   "cell_type": "markdown",
   "metadata": {},
   "source": [
    "__Ejemplo2:__"
   ]
  },
  {
   "cell_type": "code",
   "execution_count": 16,
   "metadata": {},
   "outputs": [
    {
     "name": "stdout",
     "output_type": "stream",
     "text": [
      "La Tabla de multiplicar del número 5\n",
      "Número        Valor\n",
      "   0            0\n",
      "   1            5\n",
      "   2           10\n",
      "   3           15\n",
      "   4           20\n",
      "   5           25\n",
      "   6           30\n",
      "   7           35\n",
      "   8           40\n",
      "   9           45\n"
     ]
    }
   ],
   "source": [
    "void TablaMultiplicar(int n)\n",
    "{\n",
    "  int m[ 10 ]; // se declara el arreglo \n",
    "  // se inicializa el arreglo usando un for          \n",
    "  for ( int i = 0; i < 10; i++ )\n",
    "    {\n",
    "      m[ i ] = i*n; \n",
    "    }\n",
    "  cout << \"La Tabla de multiplicar del número \" << n << endl;\n",
    "  cout << \"Número\" << setw( 13 ) << \"Valor\" << endl;\n",
    "  // output each array element's value                      \n",
    "  for ( int j = 0; j < 10; j++ )\n",
    "    {\n",
    "      cout << setw( 4 )<< j << setw( 13 ) << m[ j ] << endl;\n",
    "    }\n",
    "}\n",
    "\n",
    "//Usando la función\n",
    "TablaMultiplicar(5)"
   ]
  },
  {
   "cell_type": "markdown",
   "metadata": {},
   "source": [
    "## Arreglos multidimensionales\n",
    "\n",
    "De forma similar a los arreglos en una dimensión se declaran los de multiples dimensiones.\n",
    "\n",
    "__Sintaxis:__\n",
    "    \n",
    "    tipo Nombre[Tamaño1][Tamaño2]...[TamañoN];\n",
    "\n",
    "\n",
    "__Ejemplo:__ Un arreglo de 4X3 o martríz."
   ]
  },
  {
   "cell_type": "code",
   "execution_count": 17,
   "metadata": {},
   "outputs": [
    {
     "name": "stdout",
     "output_type": "stream",
     "text": [
      "a[0][0]: 0\n",
      "a[0][1]: 0\n",
      "a[0][2]: 0\n",
      "a[1][0]: 1\n",
      "a[1][1]: 2\n",
      "a[1][2]: 3\n",
      "a[2][0]: 2\n",
      "a[2][1]: 4\n",
      "a[2][2]: 6\n",
      "a[3][0]: 3\n",
      "a[3][1]: 6\n",
      "a[3][2]: 9\n"
     ]
    }
   ],
   "source": [
    "// Declaramos e inicializamos una matriz de 4X3 de enteros, llamada a.\n",
    "int a[4][3] = { {0,0,0}, {1,2,3}, {2,4,6}, {3,6,9}};\n",
    " \n",
    "// Ahora se muestran en pantalla                      \n",
    "for( int i = 0; i < 4; i++ ){\n",
    "        for ( int j = 0; j < 3; j++ ){\n",
    "         cout << \"a[\" << i << \"][\" << j << \"]: \";\n",
    "         cout << a[i][j]<< endl;\n",
    "      }//end for\n",
    "    }//end for"
   ]
  },
  {
   "cell_type": "markdown",
   "metadata": {},
   "source": [
    "### Pasar un arreglo como argumento de una función\n",
    "\n",
    "Hay tres maneras de pasar un arreglo como argumento a una función:\n",
    "- Arreglo definido\n",
    "       \n",
    "       tipo_funcion nombre_funcion(tipo_arreglo nombre_arreglo[tamaño_arreglo]){}\n",
    "\n",
    "- Arreglo indefinido:\n",
    "    \n",
    "        tipo_funcion nombre_funcion(tipo_arreglo nombre_arreglo[]){}\n",
    "\n",
    "- Puntero (se verá luego) al arreglo:\n",
    "        \n",
    "        tipo_funcion nombre_funcion(tipo_arreglo *nombre_arreglo){}\n",
    "    \n",
    " __Ejemplo:__"
   ]
  },
  {
   "cell_type": "code",
   "execution_count": 18,
   "metadata": {},
   "outputs": [
    {
     "name": "stdout",
     "output_type": "stream",
     "text": [
      "Arreglo[0]= 1\n",
      "Arreglo[1]= 2\n",
      "Arreglo[2]= 3\n",
      "Arreglo[3]= 4\n",
      "Arreglo[4]= 5\n",
      "Arreglo[5]= 6\n",
      "Arreglo[6]= 7\n",
      "Arreglo[7]= 8\n",
      "Arreglo[8]= 9\n",
      "Arreglo[9]= 0\n"
     ]
    }
   ],
   "source": [
    "// Arreglo definido\n",
    "void ArregloDefinido(int Enteros[10]){\n",
    "    for (int i = 0; i < 10; i++ ){\n",
    "        cout << \"Arreglo[\" << i << \"]= \" << Enteros[i] <<endl;\n",
    "    }\n",
    "}\n",
    "//Usemos la función\n",
    "int Arreglo[10]={1,2,3,4,5,6,7,8,9,0};\n",
    "ArregloDefinido(Arreglo);"
   ]
  },
  {
   "cell_type": "code",
   "execution_count": 19,
   "metadata": {},
   "outputs": [
    {
     "name": "stdout",
     "output_type": "stream",
     "text": [
      "Arreglo[0]= 1\n",
      "Arreglo[1]= 2\n",
      "Arreglo[2]= 3\n",
      "Arreglo[3]= 4\n",
      "Arreglo[4]= 5\n",
      "Arreglo[5]= 6\n",
      "Arreglo[6]= 7\n",
      "Arreglo[7]= 8\n",
      "Arreglo[8]= 9\n",
      "Arreglo[9]= 0\n"
     ]
    }
   ],
   "source": [
    "//Arreglo indefinido\n",
    "void ArregloIndefinido(float Floats[], int size){ \n",
    "    for (int i = 0; i < size; i++ ){\n",
    "    cout << \"Arreglo[\" << i << \"]= \" << Floats[i] <<endl;\n",
    "    }\n",
    "}\n",
    "//Usemos la función\n",
    "float ArregloFloats[10]={1,2,3,4,5,6,7,8,9,0};\n",
    "ArregloIndefinido(ArregloFloats,10);"
   ]
  },
  {
   "cell_type": "markdown",
   "metadata": {},
   "source": [
    "## Strings.\n",
    "\n",
    "Los strings en C son arreglos de chars, que terminan con el símbolo null (\\0), y pueden ser asignados de varias formas\n",
    "\n",
    "    char saludo[5] = {'H', 'o', 'l', 'a','\\0'};\n",
    "    char saludo[] = \"Hola\";\n",
    "\n",
    "\n",
    "En _C++_ es posible usar todas las herramientas de _C_ para el manejo de estos elementos. Es bueno que estén familiarizados con las funciones de _C_ para el manejo de chars\n",
    "- strcpy\n",
    "- strcat\n",
    "- strlen\n",
    "- strcmp\n",
    "- strchr\n",
    "- strstr\n",
    "\n",
    "### Strings en C++\n",
    "En C++, la librería estándar posee una clase (luego se hablará de esto), que permite mucha más libertad en la manipulación de cadenas de caracteres o strings, solo vasta con incluir la librería <string>.\n",
    "    \n",
    "__Ejemplo:__ Copie este código en un documento .cpp y compilelo"
   ]
  },
  {
   "cell_type": "raw",
   "metadata": {},
   "source": [
    "#include <iostream>\n",
    "#include <string>    //llamo la librería\n",
    "\n",
    "using namespace std;\n",
    "\n",
    "int main ()\n",
    "{\n",
    "   string str1 = \"Hola\";\n",
    "   string str2 = \"Mundo\";\n",
    "   string str3, str4;\n",
    "   int  len ;\n",
    "\n",
    "   //se igualan a los valores\n",
    "\n",
    "   str3= \" \"; // guardo un espacio en str3\n",
    "   \n",
    "   // se pueden concatenar las cadenas de caracteres\n",
    "   str4 = str1 + str3 + str2;\n",
    "   cout << \"str1 + str3 + str2 : \" << str4 << endl;\n",
    "\n",
    "   // las funciones asociadas al objeto str4 se llaman con el operador '.'\n",
    "   len = str4.size();\n",
    "   cout << \"tamaño\" << endl;\n",
    "   cout << \"str4.size() :  \" << len << endl;\n",
    "\n",
    "   return 0;\n",
    "}"
   ]
  },
  {
   "cell_type": "markdown",
   "metadata": {},
   "source": [
    "## Punteros.\n",
    "\n",
    "Sabemos que las variables almacenan diferentes tipos de datos en posiciones bien definidas de la memoria. Estas direcciones se pueden ver usando el operador `&`.\n",
    "### Puntero \n",
    "Es una variable cuyo valor es la dirección en memoria de otra variable. La forma en que se declara es\n",
    "\n",
    "    tipo *nombre;\n",
    "\n",
    "Aunque el tipo de variable que guarda el puntero siempre es el mismo (hexadecimal), la diferencia es el tipo de variable a la que el puntero apunta.\n",
    "Las acciones que se realizan sobre los punteros son las siguientes:\n",
    "\n",
    "- Declarar.\n",
    "- Asignar.\n",
    "- Acceder.\n",
    "\n",
    "__Ejemplo y Ejercicio:__ Cree un código compilable que haga lo mismo que se muestra a continuación"
   ]
  },
  {
   "cell_type": "code",
   "execution_count": 20,
   "metadata": {},
   "outputs": [
    {
     "name": "stdout",
     "output_type": "stream",
     "text": [
      "Valor de variable var: 20\n",
      "Dirección de memoria guardada en ip: 0x7f07fdd621c8\n",
      "Valor de *ip: 20\n",
      "Dirección de memoria de ip, &ip : 0x7f07fdd621c0\n"
     ]
    }
   ],
   "source": [
    "int  var = 20;   \n",
    "int  *ip;        // Declaración de variable tipo puntero a entero \n",
    "\n",
    "ip = &var;       // Asignación de valor del puntero\n",
    "\n",
    "//Muestro el valor almacenado en var\n",
    "cout << \"Valor de variable var: \" << var << endl;\n",
    "\n",
    "//Muestro la dirección de memoria de var que está guardada en ip\n",
    "cout << \"Dirección de memoria guardada en ip: \" << ip << endl;\n",
    "\n",
    "//Acceso a la valor almacenado en var a través del puntero\n",
    "cout << \"Valor de *ip: \" << *ip << endl;\n",
    "\n",
    "//Tambien puedo mostrar la dirección de memoria del puntero\n",
    "cout << \"Dirección de memoria de ip, &ip : \" << &ip << endl;"
   ]
  },
  {
   "cell_type": "markdown",
   "metadata": {},
   "source": [
    "### Punteros a NULL\n",
    "Por buena práctica de programación es habitual en el momento de declarar un puntero se le asigna por defecto el valor de NULL, i.e que no apunta a ningun lado (aunque realmente apunte a la dirección 0). Esto se usa para evitar dejar en un programa punteros sin asignar.\n",
    "\n",
    "__Ejemplo:__"
   ]
  },
  {
   "cell_type": "code",
   "execution_count": 21,
   "metadata": {},
   "outputs": [
    {
     "name": "stdout",
     "output_type": "stream",
     "text": [
      "Puntero a NULL\n",
      "Asignado, con valor: 1\n"
     ]
    }
   ],
   "source": [
    "int  *ptr = NULL;\n",
    "if(!ptr){\n",
    "    cout << \"Puntero a NULL\"<< endl ; //si trata de acceder a *ptr, Segmentation fault!!!\n",
    "}\n",
    "\n",
    "//Asigno una variabe\n",
    "int a=1;\n",
    "//Asigno la dirección de la variable a al puntero\n",
    "ptr=&a;\n",
    "\n",
    "if(ptr){\n",
    "    cout << \"Asignado, con valor: \" << *ptr << endl;\n",
    "}   "
   ]
  },
  {
   "cell_type": "markdown",
   "metadata": {},
   "source": [
    "### Uso de punteros en arreglos\n",
    "Cuando se declara un arreglo, lo que se hace es declarar un puntero constante al primer elemento del arreglo, así si se declara el arreglo `double vector[10] ;`, lo que se tiene es un puntero constante a la dirección de memoria `&vector[0]` que llega hasta `&vector[9]`\n",
    "\n",
    "Así se pueden usar nombres de arreglos como punteros constantes, o viceversa. luego es lo mismo `vector[4]` (que es el nombre del arreglo), que usar la dirección en memoria `*(vector +4)` (que toma la posición de memoria *vector y la aumenta en 4. Esto es aritmética de punteros).\n",
    "\n",
    "__Ejemplo:__"
   ]
  },
  {
   "cell_type": "code",
   "execution_count": 22,
   "metadata": {},
   "outputs": [
    {
     "name": "stdout",
     "output_type": "stream",
     "text": [
      "muestro los valores arreglos \n",
      "vector[0]= 10\n",
      "vector[1]= 20\n",
      "vector[2]= 30\n",
      "vector[3]= 40\n",
      "muestro los valores usando punteros \n",
      "*(p + 0) : 10\n",
      "*(p + 1) : 20\n",
      "*(p + 2) : 30\n",
      "*(p + 3) : 40\n",
      "Muestro los valores usando el nombre como dirección \n",
      "*(vector + 0) : 10\n",
      "*(vector + 1) : 20\n",
      "*(vector + 2) : 30\n",
      "*(vector + 3) : 40\n"
     ]
    }
   ],
   "source": [
    "double vector[4] = {10,20,30,40};\n",
    "double *p;\n",
    "  \n",
    "p = vector;\n",
    "  \n",
    "cout << \"muestro los valores arreglos \" << endl; \n",
    "for ( int i = 0; i < 4; i++ )\n",
    "{\n",
    "    cout << \"vector[\" << i << \"]= \";\n",
    "    cout << vector[i] << endl;\n",
    "}\n",
    "\n",
    "cout << \"muestro los valores usando punteros \" << endl; \n",
    "for ( int i = 0; i < 4; i++ )\n",
    "{\n",
    "    cout << \"*(p + \" << i << \") : \";\n",
    "    cout << *(p + i) << endl;\n",
    "}\n",
    "\n",
    "cout << \"Muestro los valores usando el nombre como dirección \" << endl;\n",
    "for ( int i = 0; i < 4; i++ )\n",
    "{\n",
    "    cout << \"*(vector + \" << i << \") : \";\n",
    "    cout << *(vector + i) << endl;\n",
    "}"
   ]
  },
  {
   "cell_type": "markdown",
   "metadata": {},
   "source": [
    "### Funciones que entregan punteros (arreglos)\n",
    "\n",
    "Si se quiere que una función devuelva un arreglo\n",
    "\n",
    "__Sintaxis:__\n",
    "       \n",
    "    tipo_funcion * nombre_funcion(){}\n",
    "\n",
    "__Ejemplo:__"
   ]
  },
  {
   "cell_type": "code",
   "execution_count": 23,
   "metadata": {},
   "outputs": [
    {
     "name": "stdout",
     "output_type": "stream",
     "text": [
      "suma[0]=3\n",
      "suma[1]=7\n",
      "suma[2]=11\n",
      "suma[3]=15\n",
      "suma[4]=19\n",
      "suma[5]=23\n",
      "suma[6]=27\n",
      "suma[7]=31\n",
      "suma[8]=35\n",
      "suma[9]=39\n"
     ]
    }
   ],
   "source": [
    "int* Suma(int vec1[10], int vec2[10]){\n",
    "    /**\n",
    "    * Se debe de declara static para que cuando salga de la función no borre la memoria.\n",
    "    * No es recomendable para códigos extensos\n",
    "    **/\n",
    "    static int sum[10];\n",
    "    for (int i = 0; i < 10 ; i++){\n",
    "        sum[i]=vec1[i]+vec2[i];\n",
    "    }\n",
    "    return sum;\n",
    "}\n",
    "\n",
    "//Uso de la función\n",
    "int vec1[10] = {1,3,5,7,9,11,13,15,17,19};\n",
    "int vec2[10] = {2,4,6,8,10,12,14,16,18,20};\n",
    "\n",
    "//Se Asigna el resultado de la función a la variable suma\n",
    "int *suma = Suma(vec1, vec2);\n",
    "\n",
    "//Se muestra el resultado\n",
    "for (int i = 0; i < 10 ; i++){\n",
    "    cout <<\"suma[\"<<i<<\"]=\" <<suma[i]<<endl;\n",
    "}"
   ]
  },
  {
   "cell_type": "markdown",
   "metadata": {},
   "source": [
    "### Arreglos de punteros\n",
    "Siguiendo la lógica de los arreglos, un arreglo de punteros se declara así\n",
    "    \n",
    "    tipo *nombre[tamaño];\n",
    "\n",
    "__Ejemplo:__"
   ]
  },
  {
   "cell_type": "code",
   "execution_count": 24,
   "metadata": {},
   "outputs": [],
   "source": [
    "#include <iostream>\n",
    "using namespace std;\n",
    "\n",
    "#include <iomanip>\n",
    "using std::setw;\n",
    " \n",
    "const int MAX = 5;"
   ]
  },
  {
   "cell_type": "code",
   "execution_count": 25,
   "metadata": {},
   "outputs": [
    {
     "name": "stdout",
     "output_type": "stream",
     "text": [
      "Número    Nombre      Direccion\n",
      "   0      Camilo   0x7f07fdd622b0\n",
      "   1        Omar   0x7f07fdd622b8\n",
      "   2       Abdul   0x7f07fdd622c0\n",
      "   3       Alejo   0x7f07fdd622c8\n",
      "   4     Alephys   0x7f07fdd622d0\n"
     ]
    }
   ],
   "source": [
    "//recordando que un string es una cadena de caracteres, caracterizada por un puntero\n",
    "  const char *nombres[] = {\"Camilo\",\"Omar\",\"Abdul\",\"Alejo\",\"Alephys\"};\n",
    "  \n",
    "   cout << \"Número\" << setw( 10 ) << \"Nombre\" << setw( 15 )<< \"Direccion\" << endl;\n",
    "   \n",
    "   for (int i = 0; i < MAX; i++)\n",
    "     {\n",
    "       cout << setw( 4 ) << i << setw( 12 ) << nombres[i] << setw( 17 );\n",
    "       cout << &nombres[i] <<endl;\n",
    "     }"
   ]
  },
  {
   "cell_type": "markdown",
   "metadata": {},
   "source": [
    "### Puntero a puntero\n",
    "\n",
    "Es un puntero que guarda la dirección de memoria de un puntero que a su vez guarda la dirección de memoria de una variable, se declara así:\n",
    "    \n",
    "    tipo** var;\n",
    "\n",
    "\n",
    "__Ejemplo:__"
   ]
  },
  {
   "cell_type": "code",
   "execution_count": 26,
   "metadata": {},
   "outputs": [
    {
     "name": "stdout",
     "output_type": "stream",
     "text": [
      "var= 3000\n",
      "*ptr= 3000\n",
      "**pptr= 3000\n",
      "Direcciones de memoria\n",
      "&var= 0x7f07fdd622e0\n",
      "ptr= 0x7f07fdd622e0\n",
      "*pptr= 0x7f07fdd622e0\n",
      "pptr= 0x7f07fdd622e8\n",
      "&pptr= 0x7f07fdd622f0\n"
     ]
    }
   ],
   "source": [
    "int  var;\n",
    "int  *ptr;\n",
    "int  **pptr;\n",
    "\n",
    "var = 3000;\n",
    "\n",
    "// La dirección de var se guarda en ptr\n",
    "ptr = &var;\n",
    "\n",
    "// La direccion de ptr se guarda en pptr\n",
    "pptr = &ptr;\n",
    "\n",
    "// Accediendo al valor a través de la variable, puntero y puntero a puntero.\n",
    "cout << \"var= \" << var << endl;\n",
    "cout << \"*ptr= \" << *ptr << endl;\n",
    "cout << \"**pptr= \" << **pptr << endl;\n",
    "cout << \"Direcciones de memoria\" << endl;\n",
    "   \n",
    "cout << \"&var= \" << &var << endl;\n",
    "cout << \"ptr= \" << ptr << endl;\n",
    "cout << \"*pptr= \" << *pptr << endl;\n",
    "cout << \"pptr= \" << pptr << endl;\n",
    "cout << \"&pptr= \" << &pptr << endl;"
   ]
  },
  {
   "cell_type": "markdown",
   "metadata": {},
   "source": [
    "### Pasando un puntero como argumento\n",
    "\n",
    "Para pasar a una función un puntero (dirección en memoria), simplemente en la declaración de los parámetros de la función el puntero.\n",
    "\n",
    "__Ejemplo__:"
   ]
  },
  {
   "cell_type": "code",
   "execution_count": 27,
   "metadata": {},
   "outputs": [
    {
     "name": "stdout",
     "output_type": "stream",
     "text": [
      "El número mayor es: 15\n"
     ]
    }
   ],
   "source": [
    "double mayor(double *arr, int tamano){\n",
    "    double may;          \n",
    "    may=arr[0]; //le asigno el primer elemento\n",
    "    for (int i = 1; i < tamano; ++i){\n",
    "        if ( may < arr[i])\n",
    "    {\n",
    "        may = arr[i];\n",
    "    }//end if\n",
    "    }//end for\n",
    "  \n",
    "  return may;\n",
    "}\n",
    "\n",
    "//Usemos la función\n",
    "double arreglo[] = {1,2,15,8,2};\n",
    "double M;\n",
    "  \n",
    "// Se pasa el puntero a la funcion como argumento.\n",
    "M = mayor( arreglo, 5 ) ;\n",
    "  \n",
    "// output the returned value \n",
    "cout << \"El número mayor es: \" << M << endl; "
   ]
  }
 ],
 "metadata": {
  "kernelspec": {
   "display_name": "ROOT C++",
   "language": "c++",
   "name": "root"
  },
  "language_info": {
   "codemirror_mode": "text/x-c++src",
   "file_extension": ".C",
   "mimetype": " text/x-c++src",
   "name": "c++"
  }
 },
 "nbformat": 4,
 "nbformat_minor": 2
}
